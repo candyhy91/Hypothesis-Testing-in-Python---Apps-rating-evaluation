{
 "cells": [
  {
   "cell_type": "markdown",
   "metadata": {
    "colab_type": "text",
    "id": "i2RUFW7TFcuh"
   },
   "source": [
    "# Springboard Apps project - Tier 3 - Complete\n",
    "\n",
    "Welcome to the Apps project! To give you a taste of your future career, we're going to walk through exactly the kind of notebook that you'd write as a data scientist. In the process, we'll be sure to signpost the general framework for our investigation - the Data Science Pipeline - as well as give reasons for why we're doing what we're doing. We're also going to apply some of the skills and knowledge you've built up in the previous unit when reading Professor Spiegelhalter's *The Art of Statistics* (hereinafter *AoS*). \n",
    "\n",
    "So let's get cracking!\n",
    "\n",
    "**Brief**\n",
    "\n",
    "Did Apple Store apps receive better reviews than Google Play apps?\n",
    "\n",
    "## Stages of the project\n",
    "\n",
    "1. Sourcing and loading \n",
    "    * Load the two datasets\n",
    "    * Pick the columns that we are going to work with \n",
    "    * Subsetting the data on this basis \n",
    " \n",
    " \n",
    "2. Cleaning, transforming and visualizing\n",
    "    * Check the data types and fix them\n",
    "    * Add a `platform` column to both the `Apple` and the `Google` dataframes\n",
    "    * Changing the column names to prepare for a join \n",
    "    * Join the two data sets\n",
    "    * Eliminate the `NaN` values\n",
    "    * Filter only those apps that have been reviewed at least once\n",
    "    * Summarize the data visually and analytically (by the column `platform`)  \n",
    "  \n",
    "  \n",
    "3. Modelling \n",
    "    * Hypothesis formulation\n",
    "    * Getting the distribution of the data\n",
    "    * Permutation test \n",
    "\n",
    "\n",
    "4. Evaluating and concluding \n",
    "    * What is our conclusion?\n",
    "    * What is our decision?\n",
    "    * Other models we could have used. \n",
    "    "
   ]
  },
  {
   "cell_type": "markdown",
   "metadata": {
    "colab_type": "text",
    "id": "QLUAXtl1Fcuk"
   },
   "source": [
    "## Importing the libraries\n",
    "\n",
    "In this case we are going to import pandas, numpy, scipy, random and matplotlib.pyplot"
   ]
  },
  {
   "cell_type": "code",
   "execution_count": 136,
   "metadata": {
    "colab": {},
    "colab_type": "code",
    "id": "XeXJOlGiFcum"
   },
   "outputs": [],
   "source": [
    "import pandas as pd\n",
    "import numpy as np\n",
    "import matplotlib.pyplot as plt\n",
    "# scipi is a library for statistical tests and visualizations \n",
    "from scipy import stats\n",
    "# random enables us to generate random numbers\n",
    "import random"
   ]
  },
  {
   "cell_type": "markdown",
   "metadata": {
    "colab_type": "text",
    "id": "zVD7NlPAFcup"
   },
   "source": [
    "## Stage 1 -  Sourcing and loading data"
   ]
  },
  {
   "cell_type": "markdown",
   "metadata": {
    "colab_type": "text",
    "id": "KU8bdbImFcuq"
   },
   "source": [
    "### 1a. Source and load the data\n",
    "Let's download the data from Kaggle. Kaggle is a fantastic resource: a kind of social medium for data scientists, it boasts projects, datasets and news on the freshest libraries and technologies all in one place. The data from the Apple Store can be found [here](https://www.kaggle.com/ramamet4/app-store-apple-data-set-10k-apps) and the data from Google Store can be found [here](https://www.kaggle.com/lava18/google-play-store-apps).\n",
    "Download the datasets and save them in your working directory."
   ]
  },
  {
   "cell_type": "code",
   "execution_count": 137,
   "metadata": {
    "colab": {},
    "colab_type": "code",
    "id": "laM1PB76Fcur"
   },
   "outputs": [
    {
     "data": {
      "text/html": [
       "<div>\n",
       "<style scoped>\n",
       "    .dataframe tbody tr th:only-of-type {\n",
       "        vertical-align: middle;\n",
       "    }\n",
       "\n",
       "    .dataframe tbody tr th {\n",
       "        vertical-align: top;\n",
       "    }\n",
       "\n",
       "    .dataframe thead th {\n",
       "        text-align: right;\n",
       "    }\n",
       "</style>\n",
       "<table border=\"1\" class=\"dataframe\">\n",
       "  <thead>\n",
       "    <tr style=\"text-align: right;\">\n",
       "      <th></th>\n",
       "      <th>App</th>\n",
       "      <th>Category</th>\n",
       "      <th>Rating</th>\n",
       "      <th>Reviews</th>\n",
       "      <th>Size</th>\n",
       "      <th>Installs</th>\n",
       "      <th>Type</th>\n",
       "      <th>Price</th>\n",
       "      <th>Content Rating</th>\n",
       "      <th>Genres</th>\n",
       "      <th>Last Updated</th>\n",
       "      <th>Current Ver</th>\n",
       "      <th>Android Ver</th>\n",
       "    </tr>\n",
       "  </thead>\n",
       "  <tbody>\n",
       "    <tr>\n",
       "      <th>0</th>\n",
       "      <td>Photo Editor &amp; Candy Camera &amp; Grid &amp; ScrapBook</td>\n",
       "      <td>ART_AND_DESIGN</td>\n",
       "      <td>4.1</td>\n",
       "      <td>159</td>\n",
       "      <td>19M</td>\n",
       "      <td>10,000+</td>\n",
       "      <td>Free</td>\n",
       "      <td>0</td>\n",
       "      <td>Everyone</td>\n",
       "      <td>Art &amp; Design</td>\n",
       "      <td>January 7, 2018</td>\n",
       "      <td>1.0.0</td>\n",
       "      <td>4.0.3 and up</td>\n",
       "    </tr>\n",
       "    <tr>\n",
       "      <th>1</th>\n",
       "      <td>Coloring book moana</td>\n",
       "      <td>ART_AND_DESIGN</td>\n",
       "      <td>3.9</td>\n",
       "      <td>967</td>\n",
       "      <td>14M</td>\n",
       "      <td>500,000+</td>\n",
       "      <td>Free</td>\n",
       "      <td>0</td>\n",
       "      <td>Everyone</td>\n",
       "      <td>Art &amp; Design;Pretend Play</td>\n",
       "      <td>January 15, 2018</td>\n",
       "      <td>2.0.0</td>\n",
       "      <td>4.0.3 and up</td>\n",
       "    </tr>\n",
       "    <tr>\n",
       "      <th>2</th>\n",
       "      <td>U Launcher Lite – FREE Live Cool Themes, Hide ...</td>\n",
       "      <td>ART_AND_DESIGN</td>\n",
       "      <td>4.7</td>\n",
       "      <td>87510</td>\n",
       "      <td>8.7M</td>\n",
       "      <td>5,000,000+</td>\n",
       "      <td>Free</td>\n",
       "      <td>0</td>\n",
       "      <td>Everyone</td>\n",
       "      <td>Art &amp; Design</td>\n",
       "      <td>August 1, 2018</td>\n",
       "      <td>1.2.4</td>\n",
       "      <td>4.0.3 and up</td>\n",
       "    </tr>\n",
       "    <tr>\n",
       "      <th>3</th>\n",
       "      <td>Sketch - Draw &amp; Paint</td>\n",
       "      <td>ART_AND_DESIGN</td>\n",
       "      <td>4.5</td>\n",
       "      <td>215644</td>\n",
       "      <td>25M</td>\n",
       "      <td>50,000,000+</td>\n",
       "      <td>Free</td>\n",
       "      <td>0</td>\n",
       "      <td>Teen</td>\n",
       "      <td>Art &amp; Design</td>\n",
       "      <td>June 8, 2018</td>\n",
       "      <td>Varies with device</td>\n",
       "      <td>4.2 and up</td>\n",
       "    </tr>\n",
       "    <tr>\n",
       "      <th>4</th>\n",
       "      <td>Pixel Draw - Number Art Coloring Book</td>\n",
       "      <td>ART_AND_DESIGN</td>\n",
       "      <td>4.3</td>\n",
       "      <td>967</td>\n",
       "      <td>2.8M</td>\n",
       "      <td>100,000+</td>\n",
       "      <td>Free</td>\n",
       "      <td>0</td>\n",
       "      <td>Everyone</td>\n",
       "      <td>Art &amp; Design;Creativity</td>\n",
       "      <td>June 20, 2018</td>\n",
       "      <td>1.1</td>\n",
       "      <td>4.4 and up</td>\n",
       "    </tr>\n",
       "  </tbody>\n",
       "</table>\n",
       "</div>"
      ],
      "text/plain": [
       "                                                 App        Category  Rating  \\\n",
       "0     Photo Editor & Candy Camera & Grid & ScrapBook  ART_AND_DESIGN     4.1   \n",
       "1                                Coloring book moana  ART_AND_DESIGN     3.9   \n",
       "2  U Launcher Lite – FREE Live Cool Themes, Hide ...  ART_AND_DESIGN     4.7   \n",
       "3                              Sketch - Draw & Paint  ART_AND_DESIGN     4.5   \n",
       "4              Pixel Draw - Number Art Coloring Book  ART_AND_DESIGN     4.3   \n",
       "\n",
       "  Reviews  Size     Installs  Type Price Content Rating  \\\n",
       "0     159   19M      10,000+  Free     0       Everyone   \n",
       "1     967   14M     500,000+  Free     0       Everyone   \n",
       "2   87510  8.7M   5,000,000+  Free     0       Everyone   \n",
       "3  215644   25M  50,000,000+  Free     0           Teen   \n",
       "4     967  2.8M     100,000+  Free     0       Everyone   \n",
       "\n",
       "                      Genres      Last Updated         Current Ver  \\\n",
       "0               Art & Design   January 7, 2018               1.0.0   \n",
       "1  Art & Design;Pretend Play  January 15, 2018               2.0.0   \n",
       "2               Art & Design    August 1, 2018               1.2.4   \n",
       "3               Art & Design      June 8, 2018  Varies with device   \n",
       "4    Art & Design;Creativity     June 20, 2018                 1.1   \n",
       "\n",
       "    Android Ver  \n",
       "0  4.0.3 and up  \n",
       "1  4.0.3 and up  \n",
       "2  4.0.3 and up  \n",
       "3    4.2 and up  \n",
       "4    4.4 and up  "
      ]
     },
     "execution_count": 137,
     "metadata": {},
     "output_type": "execute_result"
    }
   ],
   "source": [
    "# Now that the files are saved, we want to load them into Python using read_csv and pandas.\n",
    "\n",
    "# Create a variable called google, and store in it the path of the csv file that contains your google dataset. \n",
    "# If your dataset is in the same folder as this notebook, the path will simply be the name of the file. \n",
    "google = 'googleplaystore.csv'\n",
    "\n",
    "# Read the csv file into a data frame called Google using the read_csv() pandas method.\n",
    "Google = pd.read_csv(google)\n",
    "\n",
    "# Using the head() pandas method, observe the first three entries.\n",
    "Google.head()"
   ]
  },
  {
   "cell_type": "code",
   "execution_count": 138,
   "metadata": {
    "colab": {},
    "colab_type": "code",
    "id": "3AW8EA1wFcuu"
   },
   "outputs": [
    {
     "data": {
      "text/html": [
       "<div>\n",
       "<style scoped>\n",
       "    .dataframe tbody tr th:only-of-type {\n",
       "        vertical-align: middle;\n",
       "    }\n",
       "\n",
       "    .dataframe tbody tr th {\n",
       "        vertical-align: top;\n",
       "    }\n",
       "\n",
       "    .dataframe thead th {\n",
       "        text-align: right;\n",
       "    }\n",
       "</style>\n",
       "<table border=\"1\" class=\"dataframe\">\n",
       "  <thead>\n",
       "    <tr style=\"text-align: right;\">\n",
       "      <th></th>\n",
       "      <th>Unnamed: 0</th>\n",
       "      <th>id</th>\n",
       "      <th>track_name</th>\n",
       "      <th>size_bytes</th>\n",
       "      <th>currency</th>\n",
       "      <th>price</th>\n",
       "      <th>rating_count_tot</th>\n",
       "      <th>rating_count_ver</th>\n",
       "      <th>user_rating</th>\n",
       "      <th>user_rating_ver</th>\n",
       "      <th>ver</th>\n",
       "      <th>cont_rating</th>\n",
       "      <th>prime_genre</th>\n",
       "      <th>sup_devices.num</th>\n",
       "      <th>ipadSc_urls.num</th>\n",
       "      <th>lang.num</th>\n",
       "      <th>vpp_lic</th>\n",
       "    </tr>\n",
       "  </thead>\n",
       "  <tbody>\n",
       "    <tr>\n",
       "      <th>0</th>\n",
       "      <td>1</td>\n",
       "      <td>281656475</td>\n",
       "      <td>PAC-MAN Premium</td>\n",
       "      <td>100788224</td>\n",
       "      <td>USD</td>\n",
       "      <td>3.99</td>\n",
       "      <td>21292</td>\n",
       "      <td>26</td>\n",
       "      <td>4.0</td>\n",
       "      <td>4.5</td>\n",
       "      <td>6.3.5</td>\n",
       "      <td>4+</td>\n",
       "      <td>Games</td>\n",
       "      <td>38</td>\n",
       "      <td>5</td>\n",
       "      <td>10</td>\n",
       "      <td>1</td>\n",
       "    </tr>\n",
       "    <tr>\n",
       "      <th>1</th>\n",
       "      <td>2</td>\n",
       "      <td>281796108</td>\n",
       "      <td>Evernote - stay organized</td>\n",
       "      <td>158578688</td>\n",
       "      <td>USD</td>\n",
       "      <td>0.00</td>\n",
       "      <td>161065</td>\n",
       "      <td>26</td>\n",
       "      <td>4.0</td>\n",
       "      <td>3.5</td>\n",
       "      <td>8.2.2</td>\n",
       "      <td>4+</td>\n",
       "      <td>Productivity</td>\n",
       "      <td>37</td>\n",
       "      <td>5</td>\n",
       "      <td>23</td>\n",
       "      <td>1</td>\n",
       "    </tr>\n",
       "    <tr>\n",
       "      <th>2</th>\n",
       "      <td>3</td>\n",
       "      <td>281940292</td>\n",
       "      <td>WeatherBug - Local Weather, Radar, Maps, Alerts</td>\n",
       "      <td>100524032</td>\n",
       "      <td>USD</td>\n",
       "      <td>0.00</td>\n",
       "      <td>188583</td>\n",
       "      <td>2822</td>\n",
       "      <td>3.5</td>\n",
       "      <td>4.5</td>\n",
       "      <td>5.0.0</td>\n",
       "      <td>4+</td>\n",
       "      <td>Weather</td>\n",
       "      <td>37</td>\n",
       "      <td>5</td>\n",
       "      <td>3</td>\n",
       "      <td>1</td>\n",
       "    </tr>\n",
       "    <tr>\n",
       "      <th>3</th>\n",
       "      <td>4</td>\n",
       "      <td>282614216</td>\n",
       "      <td>eBay: Best App to Buy, Sell, Save! Online Shop...</td>\n",
       "      <td>128512000</td>\n",
       "      <td>USD</td>\n",
       "      <td>0.00</td>\n",
       "      <td>262241</td>\n",
       "      <td>649</td>\n",
       "      <td>4.0</td>\n",
       "      <td>4.5</td>\n",
       "      <td>5.10.0</td>\n",
       "      <td>12+</td>\n",
       "      <td>Shopping</td>\n",
       "      <td>37</td>\n",
       "      <td>5</td>\n",
       "      <td>9</td>\n",
       "      <td>1</td>\n",
       "    </tr>\n",
       "    <tr>\n",
       "      <th>4</th>\n",
       "      <td>5</td>\n",
       "      <td>282935706</td>\n",
       "      <td>Bible</td>\n",
       "      <td>92774400</td>\n",
       "      <td>USD</td>\n",
       "      <td>0.00</td>\n",
       "      <td>985920</td>\n",
       "      <td>5320</td>\n",
       "      <td>4.5</td>\n",
       "      <td>5.0</td>\n",
       "      <td>7.5.1</td>\n",
       "      <td>4+</td>\n",
       "      <td>Reference</td>\n",
       "      <td>37</td>\n",
       "      <td>5</td>\n",
       "      <td>45</td>\n",
       "      <td>1</td>\n",
       "    </tr>\n",
       "  </tbody>\n",
       "</table>\n",
       "</div>"
      ],
      "text/plain": [
       "   Unnamed: 0         id                                         track_name  \\\n",
       "0           1  281656475                                    PAC-MAN Premium   \n",
       "1           2  281796108                          Evernote - stay organized   \n",
       "2           3  281940292    WeatherBug - Local Weather, Radar, Maps, Alerts   \n",
       "3           4  282614216  eBay: Best App to Buy, Sell, Save! Online Shop...   \n",
       "4           5  282935706                                              Bible   \n",
       "\n",
       "   size_bytes currency  price  rating_count_tot  rating_count_ver  \\\n",
       "0   100788224      USD   3.99             21292                26   \n",
       "1   158578688      USD   0.00            161065                26   \n",
       "2   100524032      USD   0.00            188583              2822   \n",
       "3   128512000      USD   0.00            262241               649   \n",
       "4    92774400      USD   0.00            985920              5320   \n",
       "\n",
       "   user_rating  user_rating_ver     ver cont_rating   prime_genre  \\\n",
       "0          4.0              4.5   6.3.5          4+         Games   \n",
       "1          4.0              3.5   8.2.2          4+  Productivity   \n",
       "2          3.5              4.5   5.0.0          4+       Weather   \n",
       "3          4.0              4.5  5.10.0         12+      Shopping   \n",
       "4          4.5              5.0   7.5.1          4+     Reference   \n",
       "\n",
       "   sup_devices.num  ipadSc_urls.num  lang.num  vpp_lic  \n",
       "0               38                5        10        1  \n",
       "1               37                5        23        1  \n",
       "2               37                5         3        1  \n",
       "3               37                5         9        1  \n",
       "4               37                5        45        1  "
      ]
     },
     "execution_count": 138,
     "metadata": {},
     "output_type": "execute_result"
    }
   ],
   "source": [
    "# Create a variable called apple, and store in it the path of the csv file that contains your apple dataset. \n",
    "apple = 'AppleStore.csv'\n",
    "\n",
    "# Read the csv file into a pandas DataFrame object called Apple.\n",
    "Apple = pd.read_csv(apple)\n",
    "\n",
    "# Observe the first three entries like you did with your other data. \n",
    "Apple.head()"
   ]
  },
  {
   "cell_type": "markdown",
   "metadata": {
    "colab_type": "text",
    "id": "vljOHKNTFcuw"
   },
   "source": [
    "### 1b. Pick the columns we'll work with\n",
    "\n",
    "From the documentation of these datasets, we can infer that the most appropriate columns to answer the brief are:\n",
    "\n",
    "1. Google:\n",
    "    * `Category` # Do we need this?\n",
    "    * `Rating`\n",
    "    * `Reviews`\n",
    "    * `Price` (maybe)\n",
    "2. Apple:    \n",
    "    * `prime_genre` # Do we need this?\n",
    "    * `user_rating` \n",
    "    * `rating_count_tot`\n",
    "    * `price` (maybe)"
   ]
  },
  {
   "cell_type": "markdown",
   "metadata": {
    "colab_type": "text",
    "id": "uf69AeTvFcux"
   },
   "source": [
    "### 1c. Subsetting accordingly\n",
    "\n",
    "Let's select only those columns that we want to work with from both datasets. We'll overwrite the subsets in the original variables."
   ]
  },
  {
   "cell_type": "code",
   "execution_count": 139,
   "metadata": {
    "colab": {},
    "colab_type": "code",
    "id": "LNSDXyjdFcuy"
   },
   "outputs": [
    {
     "data": {
      "text/html": [
       "<div>\n",
       "<style scoped>\n",
       "    .dataframe tbody tr th:only-of-type {\n",
       "        vertical-align: middle;\n",
       "    }\n",
       "\n",
       "    .dataframe tbody tr th {\n",
       "        vertical-align: top;\n",
       "    }\n",
       "\n",
       "    .dataframe thead th {\n",
       "        text-align: right;\n",
       "    }\n",
       "</style>\n",
       "<table border=\"1\" class=\"dataframe\">\n",
       "  <thead>\n",
       "    <tr style=\"text-align: right;\">\n",
       "      <th></th>\n",
       "      <th>Category</th>\n",
       "      <th>Rating</th>\n",
       "      <th>Reviews</th>\n",
       "      <th>Price</th>\n",
       "    </tr>\n",
       "  </thead>\n",
       "  <tbody>\n",
       "    <tr>\n",
       "      <th>0</th>\n",
       "      <td>ART_AND_DESIGN</td>\n",
       "      <td>4.1</td>\n",
       "      <td>159</td>\n",
       "      <td>0</td>\n",
       "    </tr>\n",
       "    <tr>\n",
       "      <th>1</th>\n",
       "      <td>ART_AND_DESIGN</td>\n",
       "      <td>3.9</td>\n",
       "      <td>967</td>\n",
       "      <td>0</td>\n",
       "    </tr>\n",
       "    <tr>\n",
       "      <th>2</th>\n",
       "      <td>ART_AND_DESIGN</td>\n",
       "      <td>4.7</td>\n",
       "      <td>87510</td>\n",
       "      <td>0</td>\n",
       "    </tr>\n",
       "    <tr>\n",
       "      <th>3</th>\n",
       "      <td>ART_AND_DESIGN</td>\n",
       "      <td>4.5</td>\n",
       "      <td>215644</td>\n",
       "      <td>0</td>\n",
       "    </tr>\n",
       "    <tr>\n",
       "      <th>4</th>\n",
       "      <td>ART_AND_DESIGN</td>\n",
       "      <td>4.3</td>\n",
       "      <td>967</td>\n",
       "      <td>0</td>\n",
       "    </tr>\n",
       "  </tbody>\n",
       "</table>\n",
       "</div>"
      ],
      "text/plain": [
       "         Category  Rating Reviews Price\n",
       "0  ART_AND_DESIGN     4.1     159     0\n",
       "1  ART_AND_DESIGN     3.9     967     0\n",
       "2  ART_AND_DESIGN     4.7   87510     0\n",
       "3  ART_AND_DESIGN     4.5  215644     0\n",
       "4  ART_AND_DESIGN     4.3     967     0"
      ]
     },
     "execution_count": 139,
     "metadata": {},
     "output_type": "execute_result"
    }
   ],
   "source": [
    "# Subset our DataFrame object Google by selecting just the variables ['Category', 'Rating', 'Reviews', 'Price']\n",
    "Google = Google[['Category', 'Rating', 'Reviews', 'Price']]\n",
    "\n",
    "# Check the first three entries\n",
    "Google.head()"
   ]
  },
  {
   "cell_type": "code",
   "execution_count": 140,
   "metadata": {
    "colab": {},
    "colab_type": "code",
    "id": "AVCtENPtFcu0"
   },
   "outputs": [
    {
     "data": {
      "text/html": [
       "<div>\n",
       "<style scoped>\n",
       "    .dataframe tbody tr th:only-of-type {\n",
       "        vertical-align: middle;\n",
       "    }\n",
       "\n",
       "    .dataframe tbody tr th {\n",
       "        vertical-align: top;\n",
       "    }\n",
       "\n",
       "    .dataframe thead th {\n",
       "        text-align: right;\n",
       "    }\n",
       "</style>\n",
       "<table border=\"1\" class=\"dataframe\">\n",
       "  <thead>\n",
       "    <tr style=\"text-align: right;\">\n",
       "      <th></th>\n",
       "      <th>prime_genre</th>\n",
       "      <th>user_rating</th>\n",
       "      <th>rating_count_tot</th>\n",
       "      <th>price</th>\n",
       "    </tr>\n",
       "  </thead>\n",
       "  <tbody>\n",
       "    <tr>\n",
       "      <th>0</th>\n",
       "      <td>Games</td>\n",
       "      <td>4.0</td>\n",
       "      <td>21292</td>\n",
       "      <td>3.99</td>\n",
       "    </tr>\n",
       "    <tr>\n",
       "      <th>1</th>\n",
       "      <td>Productivity</td>\n",
       "      <td>4.0</td>\n",
       "      <td>161065</td>\n",
       "      <td>0.00</td>\n",
       "    </tr>\n",
       "    <tr>\n",
       "      <th>2</th>\n",
       "      <td>Weather</td>\n",
       "      <td>3.5</td>\n",
       "      <td>188583</td>\n",
       "      <td>0.00</td>\n",
       "    </tr>\n",
       "    <tr>\n",
       "      <th>3</th>\n",
       "      <td>Shopping</td>\n",
       "      <td>4.0</td>\n",
       "      <td>262241</td>\n",
       "      <td>0.00</td>\n",
       "    </tr>\n",
       "    <tr>\n",
       "      <th>4</th>\n",
       "      <td>Reference</td>\n",
       "      <td>4.5</td>\n",
       "      <td>985920</td>\n",
       "      <td>0.00</td>\n",
       "    </tr>\n",
       "  </tbody>\n",
       "</table>\n",
       "</div>"
      ],
      "text/plain": [
       "    prime_genre  user_rating  rating_count_tot  price\n",
       "0         Games          4.0             21292   3.99\n",
       "1  Productivity          4.0            161065   0.00\n",
       "2       Weather          3.5            188583   0.00\n",
       "3      Shopping          4.0            262241   0.00\n",
       "4     Reference          4.5            985920   0.00"
      ]
     },
     "execution_count": 140,
     "metadata": {},
     "output_type": "execute_result"
    }
   ],
   "source": [
    "# Do the same with our Apple object, selecting just the variables ['prime_genre', 'user_rating', 'rating_count_tot', 'price']\n",
    "Apple = Apple[['prime_genre', 'user_rating', 'rating_count_tot', 'price']]\n",
    "\n",
    "# Let's check the first three entries\n",
    "Apple.head() "
   ]
  },
  {
   "cell_type": "markdown",
   "metadata": {
    "colab_type": "text",
    "id": "wwK2wH-rFcu2"
   },
   "source": [
    "## Stage 2 -  Cleaning, transforming and visualizing"
   ]
  },
  {
   "cell_type": "markdown",
   "metadata": {
    "colab_type": "text",
    "id": "NsoE5x0JFcu3"
   },
   "source": [
    "### 2a. Check the data types for both Apple and Google, and fix them\n",
    "\n",
    "Types are crucial for data science in Python. Let's determine whether the variables we selected in the previous section belong to the types they should do, or whether there are any errors here. "
   ]
  },
  {
   "cell_type": "code",
   "execution_count": 141,
   "metadata": {
    "colab": {},
    "colab_type": "code",
    "id": "ymw10SaWFcu4"
   },
   "outputs": [
    {
     "data": {
      "text/plain": [
       "prime_genre          object\n",
       "user_rating         float64\n",
       "rating_count_tot      int64\n",
       "price               float64\n",
       "dtype: object"
      ]
     },
     "execution_count": 141,
     "metadata": {},
     "output_type": "execute_result"
    }
   ],
   "source": [
    "# Using the dtypes feature of pandas DataFrame objects, check out the data types within our Apple dataframe.\n",
    "# Are they what you expect?\n",
    "Apple.dtypes"
   ]
  },
  {
   "cell_type": "markdown",
   "metadata": {
    "colab_type": "text",
    "id": "VAiM6jIxFcu6"
   },
   "source": [
    "This is looking healthy. But what about our Google data frame?"
   ]
  },
  {
   "cell_type": "code",
   "execution_count": 142,
   "metadata": {
    "colab": {},
    "colab_type": "code",
    "id": "kmP8MhqyFcu7"
   },
   "outputs": [
    {
     "data": {
      "text/plain": [
       "Category     object\n",
       "Rating      float64\n",
       "Reviews      object\n",
       "Price        object\n",
       "dtype: object"
      ]
     },
     "execution_count": 142,
     "metadata": {},
     "output_type": "execute_result"
    }
   ],
   "source": [
    "# Using the same dtypes feature, check out the data types of our Google dataframe. \n",
    "Google.dtypes"
   ]
  },
  {
   "cell_type": "markdown",
   "metadata": {
    "colab_type": "text",
    "id": "O-dxAy0WFcu9"
   },
   "source": [
    "Weird. The data type for the column 'Price' is 'object', not a numeric data type like a float or an integer. Let's investigate the unique values of this column. "
   ]
  },
  {
   "cell_type": "code",
   "execution_count": 143,
   "metadata": {
    "colab": {},
    "colab_type": "code",
    "id": "Hu08K9y7Fcu9"
   },
   "outputs": [
    {
     "data": {
      "text/plain": [
       "array(['0', '$4.99', '$3.99', '$6.99', '$1.49', '$2.99', '$7.99', '$5.99',\n",
       "       '$3.49', '$1.99', '$9.99', '$7.49', '$0.99', '$9.00', '$5.49',\n",
       "       '$10.00', '$24.99', '$11.99', '$79.99', '$16.99', '$14.99',\n",
       "       '$1.00', '$29.99', '$12.99', '$2.49', '$10.99', '$1.50', '$19.99',\n",
       "       '$15.99', '$33.99', '$74.99', '$39.99', '$3.95', '$4.49', '$1.70',\n",
       "       '$8.99', '$2.00', '$3.88', '$25.99', '$399.99', '$17.99',\n",
       "       '$400.00', '$3.02', '$1.76', '$4.84', '$4.77', '$1.61', '$2.50',\n",
       "       '$1.59', '$6.49', '$1.29', '$5.00', '$13.99', '$299.99', '$379.99',\n",
       "       '$37.99', '$18.99', '$389.99', '$19.90', '$8.49', '$1.75',\n",
       "       '$14.00', '$4.85', '$46.99', '$109.99', '$154.99', '$3.08',\n",
       "       '$2.59', '$4.80', '$1.96', '$19.40', '$3.90', '$4.59', '$15.46',\n",
       "       '$3.04', '$4.29', '$2.60', '$3.28', '$4.60', '$28.99', '$2.95',\n",
       "       '$2.90', '$1.97', '$200.00', '$89.99', '$2.56', '$30.99', '$3.61',\n",
       "       '$394.99', '$1.26', 'Everyone', '$1.20', '$1.04'], dtype=object)"
      ]
     },
     "execution_count": 143,
     "metadata": {},
     "output_type": "execute_result"
    }
   ],
   "source": [
    "# Use the unique() pandas method on the Price column to check its unique values. \n",
    "Google.Price.unique()"
   ]
  },
  {
   "cell_type": "markdown",
   "metadata": {
    "colab_type": "text",
    "id": "w_7nkogFFcu_"
   },
   "source": [
    "Aha! Fascinating. There are actually two issues here. \n",
    "\n",
    "- Firstly, there's a price called `Everyone`. That is a massive mistake! \n",
    "- Secondly, there are dollar symbols everywhere! \n",
    "\n",
    "\n",
    "Let's address the first issue first. Let's check the datapoints that have the price value `Everyone`"
   ]
  },
  {
   "cell_type": "code",
   "execution_count": 144,
   "metadata": {
    "colab": {},
    "colab_type": "code",
    "id": "E75WWmhdFcvA"
   },
   "outputs": [
    {
     "data": {
      "text/html": [
       "<div>\n",
       "<style scoped>\n",
       "    .dataframe tbody tr th:only-of-type {\n",
       "        vertical-align: middle;\n",
       "    }\n",
       "\n",
       "    .dataframe tbody tr th {\n",
       "        vertical-align: top;\n",
       "    }\n",
       "\n",
       "    .dataframe thead th {\n",
       "        text-align: right;\n",
       "    }\n",
       "</style>\n",
       "<table border=\"1\" class=\"dataframe\">\n",
       "  <thead>\n",
       "    <tr style=\"text-align: right;\">\n",
       "      <th></th>\n",
       "      <th>Category</th>\n",
       "      <th>Rating</th>\n",
       "      <th>Reviews</th>\n",
       "      <th>Price</th>\n",
       "    </tr>\n",
       "  </thead>\n",
       "  <tbody>\n",
       "    <tr>\n",
       "      <th>10472</th>\n",
       "      <td>1.9</td>\n",
       "      <td>19.0</td>\n",
       "      <td>3.0M</td>\n",
       "      <td>Everyone</td>\n",
       "    </tr>\n",
       "  </tbody>\n",
       "</table>\n",
       "</div>"
      ],
      "text/plain": [
       "      Category  Rating Reviews     Price\n",
       "10472      1.9    19.0    3.0M  Everyone"
      ]
     },
     "execution_count": 144,
     "metadata": {},
     "output_type": "execute_result"
    }
   ],
   "source": [
    "# Let's check which data points have the value 'Everyone' for the 'Price' column by subsetting our Google dataframe.\n",
    "\n",
    "# Subset the Google dataframe on the price column. \n",
    "# To be sure: you want to pick out just those rows whose value for the 'Price' column is just 'Everyone'. \n",
    "Google[Google.Price=='Everyone']"
   ]
  },
  {
   "cell_type": "markdown",
   "metadata": {
    "colab_type": "text",
    "id": "ezfLshdRFcvC"
   },
   "source": [
    "Thankfully, it's just one row. We've gotta get rid of it. "
   ]
  },
  {
   "cell_type": "code",
   "execution_count": 145,
   "metadata": {
    "colab": {},
    "colab_type": "code",
    "id": "DBmjUQUkFcvD"
   },
   "outputs": [
    {
     "data": {
      "text/plain": [
       "array(['0', '$4.99', '$3.99', '$6.99', '$1.49', '$2.99', '$7.99', '$5.99',\n",
       "       '$3.49', '$1.99', '$9.99', '$7.49', '$0.99', '$9.00', '$5.49',\n",
       "       '$10.00', '$24.99', '$11.99', '$79.99', '$16.99', '$14.99',\n",
       "       '$1.00', '$29.99', '$12.99', '$2.49', '$10.99', '$1.50', '$19.99',\n",
       "       '$15.99', '$33.99', '$74.99', '$39.99', '$3.95', '$4.49', '$1.70',\n",
       "       '$8.99', '$2.00', '$3.88', '$25.99', '$399.99', '$17.99',\n",
       "       '$400.00', '$3.02', '$1.76', '$4.84', '$4.77', '$1.61', '$2.50',\n",
       "       '$1.59', '$6.49', '$1.29', '$5.00', '$13.99', '$299.99', '$379.99',\n",
       "       '$37.99', '$18.99', '$389.99', '$19.90', '$8.49', '$1.75',\n",
       "       '$14.00', '$4.85', '$46.99', '$109.99', '$154.99', '$3.08',\n",
       "       '$2.59', '$4.80', '$1.96', '$19.40', '$3.90', '$4.59', '$15.46',\n",
       "       '$3.04', '$4.29', '$2.60', '$3.28', '$4.60', '$28.99', '$2.95',\n",
       "       '$2.90', '$1.97', '$200.00', '$89.99', '$2.56', '$30.99', '$3.61',\n",
       "       '$394.99', '$1.26', '$1.20', '$1.04'], dtype=object)"
      ]
     },
     "execution_count": 145,
     "metadata": {},
     "output_type": "execute_result"
    }
   ],
   "source": [
    "# Let's eliminate that row. \n",
    "\n",
    "# Subset our Google dataframe to pick out just those rows whose value for the 'Price' column is NOT 'Everyone'. \n",
    "# Reassign that subset to the Google variable. \n",
    "# You can do this in two lines or one. Your choice! \n",
    "Google = Google[Google.Price!='Everyone']\n",
    "\n",
    "# Check again the unique values of Google\n",
    "Google.Price.unique()"
   ]
  },
  {
   "cell_type": "markdown",
   "metadata": {
    "colab_type": "text",
    "id": "T43TB4qFFcvF"
   },
   "source": [
    "Our second problem remains: I'm seeing dollar symbols when I close my eyes! (And not in a good way). \n",
    "\n",
    "This is a problem because Python actually considers these values strings. So we can't do mathematical and statistical operations on them until we've made them into numbers. "
   ]
  },
  {
   "cell_type": "code",
   "execution_count": 146,
   "metadata": {
    "colab": {},
    "colab_type": "code",
    "id": "W87gVS9BFcvG"
   },
   "outputs": [
    {
     "name": "stderr",
     "output_type": "stream",
     "text": [
      "<ipython-input-146-ed3a6e3be2ff>:3: FutureWarning: The default value of regex will change from True to False in a future version. In addition, single character regular expressions will*not* be treated as literal strings when regex=True.\n",
      "  nosymb = Google.Price.str.replace('$',\"\")\n"
     ]
    }
   ],
   "source": [
    "# Let's create a variable called nosymb.\n",
    "# This variable will take the Price column of Google and apply the str.replace() method. \n",
    "nosymb = Google.Price.str.replace('$',\"\")\n",
    "nosymb\n",
    "# Now we need to do two things:\n",
    "# i. Make the values in the nosymb variable numeric using the to_numeric() pandas method.\n",
    "# ii. Assign this new set of numeric, dollar-sign-less values to Google['Price']. \n",
    "# You can do this in one line if you wish.\n",
    "Google['Price']=pd.to_numeric(nosymb)"
   ]
  },
  {
   "cell_type": "code",
   "execution_count": 147,
   "metadata": {},
   "outputs": [
    {
     "data": {
      "text/plain": [
       "array([  0.  ,   4.99,   3.99,   6.99,   1.49,   2.99,   7.99,   5.99,\n",
       "         3.49,   1.99,   9.99,   7.49,   0.99,   9.  ,   5.49,  10.  ,\n",
       "        24.99,  11.99,  79.99,  16.99,  14.99,   1.  ,  29.99,  12.99,\n",
       "         2.49,  10.99,   1.5 ,  19.99,  15.99,  33.99,  74.99,  39.99,\n",
       "         3.95,   4.49,   1.7 ,   8.99,   2.  ,   3.88,  25.99, 399.99,\n",
       "        17.99, 400.  ,   3.02,   1.76,   4.84,   4.77,   1.61,   2.5 ,\n",
       "         1.59,   6.49,   1.29,   5.  ,  13.99, 299.99, 379.99,  37.99,\n",
       "        18.99, 389.99,  19.9 ,   8.49,   1.75,  14.  ,   4.85,  46.99,\n",
       "       109.99, 154.99,   3.08,   2.59,   4.8 ,   1.96,  19.4 ,   3.9 ,\n",
       "         4.59,  15.46,   3.04,   4.29,   2.6 ,   3.28,   4.6 ,  28.99,\n",
       "         2.95,   2.9 ,   1.97, 200.  ,  89.99,   2.56,  30.99,   3.61,\n",
       "       394.99,   1.26,   1.2 ,   1.04])"
      ]
     },
     "execution_count": 147,
     "metadata": {},
     "output_type": "execute_result"
    }
   ],
   "source": [
    "Google.Price.unique()"
   ]
  },
  {
   "cell_type": "markdown",
   "metadata": {
    "colab_type": "text",
    "id": "LxpJQ9yyFcvI"
   },
   "source": [
    "Now let's check the data types for our Google dataframe again, to verify that the 'Price' column really is numeric now."
   ]
  },
  {
   "cell_type": "code",
   "execution_count": 148,
   "metadata": {
    "colab": {},
    "colab_type": "code",
    "id": "Fn5Gt-QbFcvI"
   },
   "outputs": [
    {
     "data": {
      "text/plain": [
       "Category     object\n",
       "Rating      float64\n",
       "Reviews      object\n",
       "Price       float64\n",
       "dtype: object"
      ]
     },
     "execution_count": 148,
     "metadata": {},
     "output_type": "execute_result"
    }
   ],
   "source": [
    "# Use the function dtypes. \n",
    "Google.dtypes"
   ]
  },
  {
   "cell_type": "markdown",
   "metadata": {
    "colab_type": "text",
    "id": "FgfuiVo0FcvK"
   },
   "source": [
    "Notice that the column `Reviews` is still an object column. We actually need this column to be a numeric column, too. "
   ]
  },
  {
   "cell_type": "code",
   "execution_count": 149,
   "metadata": {
    "colab": {},
    "colab_type": "code",
    "id": "MiVEWsWBFcvL"
   },
   "outputs": [],
   "source": [
    "# Convert the 'Reviews' column to a numeric data type. \n",
    "Google['Reviews']=pd.to_numeric(Google['Reviews'])"
   ]
  },
  {
   "cell_type": "code",
   "execution_count": 150,
   "metadata": {
    "colab": {},
    "colab_type": "code",
    "id": "wWJdXXTTFcvN"
   },
   "outputs": [
    {
     "data": {
      "text/plain": [
       "Category     object\n",
       "Rating      float64\n",
       "Reviews       int64\n",
       "Price       float64\n",
       "dtype: object"
      ]
     },
     "execution_count": 150,
     "metadata": {},
     "output_type": "execute_result"
    }
   ],
   "source": [
    "# Let's check the data types of Google again\n",
    "Google.dtypes"
   ]
  },
  {
   "cell_type": "markdown",
   "metadata": {
    "colab_type": "text",
    "id": "OiLm2GEKFcvP"
   },
   "source": [
    "### 2b. Add a `platform` column to both the `Apple` and the `Google` dataframes\n",
    "Let's add a new column to both dataframe objects called `platform`: all of its values in the Google dataframe will be just 'google', and all of its values for the Apple dataframe will be just 'apple'. \n",
    "\n",
    "The reason we're making this column is so that we can ultimately join our Apple and Google data together, and actually test out some hypotheses to solve the problem in our brief. "
   ]
  },
  {
   "cell_type": "code",
   "execution_count": 151,
   "metadata": {
    "colab": {},
    "colab_type": "code",
    "id": "mF-sOcx2FcvQ"
   },
   "outputs": [],
   "source": [
    "# Create a column called 'platform' in both the Apple and Google dataframes. \n",
    "# Add the value 'apple' and the value 'google' as appropriate. \n",
    "Google['platform']='google'\n",
    "Apple['platform']='apple'"
   ]
  },
  {
   "cell_type": "markdown",
   "metadata": {
    "colab_type": "text",
    "id": "EJcry17IFcvS"
   },
   "source": [
    "### 2c. Changing the column names to prepare for our join of the two datasets \n",
    "Since the easiest way to join two datasets is if they have both:\n",
    "- the same number of columns\n",
    "- the same column names\n",
    "we need to rename the columns of `Apple` so that they're the same as the ones of `Google`, or vice versa.\n",
    "\n",
    "In this case, we're going to change the `Apple` columns names to the names of the `Google` columns. \n",
    "\n",
    "This is an important step to unify the two datasets!"
   ]
  },
  {
   "cell_type": "code",
   "execution_count": 152,
   "metadata": {
    "colab": {},
    "colab_type": "code",
    "id": "bdt9XH2KFcvT"
   },
   "outputs": [],
   "source": [
    "# Create a variable called old_names where you'll store the column names of the Apple dataframe. \n",
    "# Use the feature .columns.\n",
    "old_names = Apple.columns\n",
    "\n",
    "# Create a variable called new_names where you'll store the column names of the Google dataframe. \n",
    "new_names = Google.columns\n",
    "\n",
    "# Use the rename() DataFrame method to change the columns names. \n",
    "Apple = Apple.rename(columns= dict(zip(old_names,new_names)))\n"
   ]
  },
  {
   "cell_type": "markdown",
   "metadata": {
    "colab_type": "text",
    "id": "qewPiLrRFcvX"
   },
   "source": [
    "### 2d. Join the two datasets \n",
    "Let's combine the two datasets into a single data frame called `df`."
   ]
  },
  {
   "cell_type": "code",
   "execution_count": 153,
   "metadata": {
    "colab": {},
    "colab_type": "code",
    "id": "jq6fGfvyFcvY"
   },
   "outputs": [
    {
     "data": {
      "text/html": [
       "<div>\n",
       "<style scoped>\n",
       "    .dataframe tbody tr th:only-of-type {\n",
       "        vertical-align: middle;\n",
       "    }\n",
       "\n",
       "    .dataframe tbody tr th {\n",
       "        vertical-align: top;\n",
       "    }\n",
       "\n",
       "    .dataframe thead th {\n",
       "        text-align: right;\n",
       "    }\n",
       "</style>\n",
       "<table border=\"1\" class=\"dataframe\">\n",
       "  <thead>\n",
       "    <tr style=\"text-align: right;\">\n",
       "      <th></th>\n",
       "      <th>Category</th>\n",
       "      <th>Rating</th>\n",
       "      <th>Reviews</th>\n",
       "      <th>Price</th>\n",
       "      <th>platform</th>\n",
       "    </tr>\n",
       "  </thead>\n",
       "  <tbody>\n",
       "    <tr>\n",
       "      <th>4510</th>\n",
       "      <td>FAMILY</td>\n",
       "      <td>3.8</td>\n",
       "      <td>156</td>\n",
       "      <td>0.00</td>\n",
       "      <td>google</td>\n",
       "    </tr>\n",
       "    <tr>\n",
       "      <th>7087</th>\n",
       "      <td>Games</td>\n",
       "      <td>5.0</td>\n",
       "      <td>61</td>\n",
       "      <td>0.00</td>\n",
       "      <td>apple</td>\n",
       "    </tr>\n",
       "    <tr>\n",
       "      <th>2165</th>\n",
       "      <td>Photo &amp; Video</td>\n",
       "      <td>4.5</td>\n",
       "      <td>1525</td>\n",
       "      <td>4.99</td>\n",
       "      <td>apple</td>\n",
       "    </tr>\n",
       "    <tr>\n",
       "      <th>6023</th>\n",
       "      <td>MAPS_AND_NAVIGATION</td>\n",
       "      <td>4.9</td>\n",
       "      <td>49</td>\n",
       "      <td>0.00</td>\n",
       "      <td>google</td>\n",
       "    </tr>\n",
       "    <tr>\n",
       "      <th>5874</th>\n",
       "      <td>PHOTOGRAPHY</td>\n",
       "      <td>3.4</td>\n",
       "      <td>2332</td>\n",
       "      <td>0.00</td>\n",
       "      <td>google</td>\n",
       "    </tr>\n",
       "    <tr>\n",
       "      <th>7707</th>\n",
       "      <td>FAMILY</td>\n",
       "      <td>4.8</td>\n",
       "      <td>124</td>\n",
       "      <td>0.00</td>\n",
       "      <td>google</td>\n",
       "    </tr>\n",
       "    <tr>\n",
       "      <th>6302</th>\n",
       "      <td>DATING</td>\n",
       "      <td>4.1</td>\n",
       "      <td>285838</td>\n",
       "      <td>0.00</td>\n",
       "      <td>google</td>\n",
       "    </tr>\n",
       "    <tr>\n",
       "      <th>3532</th>\n",
       "      <td>PRODUCTIVITY</td>\n",
       "      <td>4.4</td>\n",
       "      <td>480640</td>\n",
       "      <td>0.00</td>\n",
       "      <td>google</td>\n",
       "    </tr>\n",
       "    <tr>\n",
       "      <th>10019</th>\n",
       "      <td>WEATHER</td>\n",
       "      <td>3.5</td>\n",
       "      <td>2000</td>\n",
       "      <td>0.00</td>\n",
       "      <td>google</td>\n",
       "    </tr>\n",
       "    <tr>\n",
       "      <th>6090</th>\n",
       "      <td>FAMILY</td>\n",
       "      <td>3.8</td>\n",
       "      <td>63</td>\n",
       "      <td>0.00</td>\n",
       "      <td>google</td>\n",
       "    </tr>\n",
       "    <tr>\n",
       "      <th>3224</th>\n",
       "      <td>Games</td>\n",
       "      <td>4.0</td>\n",
       "      <td>7646</td>\n",
       "      <td>0.00</td>\n",
       "      <td>apple</td>\n",
       "    </tr>\n",
       "    <tr>\n",
       "      <th>140</th>\n",
       "      <td>BOOKS_AND_REFERENCE</td>\n",
       "      <td>4.5</td>\n",
       "      <td>1857</td>\n",
       "      <td>0.00</td>\n",
       "      <td>google</td>\n",
       "    </tr>\n",
       "  </tbody>\n",
       "</table>\n",
       "</div>"
      ],
      "text/plain": [
       "                  Category  Rating  Reviews  Price platform\n",
       "4510                FAMILY     3.8      156   0.00   google\n",
       "7087                 Games     5.0       61   0.00    apple\n",
       "2165         Photo & Video     4.5     1525   4.99    apple\n",
       "6023   MAPS_AND_NAVIGATION     4.9       49   0.00   google\n",
       "5874           PHOTOGRAPHY     3.4     2332   0.00   google\n",
       "7707                FAMILY     4.8      124   0.00   google\n",
       "6302                DATING     4.1   285838   0.00   google\n",
       "3532          PRODUCTIVITY     4.4   480640   0.00   google\n",
       "10019              WEATHER     3.5     2000   0.00   google\n",
       "6090                FAMILY     3.8       63   0.00   google\n",
       "3224                 Games     4.0     7646   0.00    apple\n",
       "140    BOOKS_AND_REFERENCE     4.5     1857   0.00   google"
      ]
     },
     "execution_count": 153,
     "metadata": {},
     "output_type": "execute_result"
    }
   ],
   "source": [
    "# Let's use the append() method to append Apple to Google. \n",
    "df = Google.append(Apple)\n",
    "\n",
    "# Using the sample() method with the number 12 passed to it, check 12 random points of your dataset.\n",
    "df.sample(12)"
   ]
  },
  {
   "cell_type": "markdown",
   "metadata": {
    "colab_type": "text",
    "id": "FjqsHugWFcvb"
   },
   "source": [
    "### 2e. Eliminate the NaN values\n",
    "\n",
    "As you can see there are some `NaN` values. We want to eliminate all these `NaN` values from the table."
   ]
  },
  {
   "cell_type": "code",
   "execution_count": 154,
   "metadata": {
    "colab": {},
    "colab_type": "code",
    "id": "Gp2q6GLyFcvb"
   },
   "outputs": [
    {
     "name": "stdout",
     "output_type": "stream",
     "text": [
      "(18037, 5)\n",
      "(16563, 5)\n"
     ]
    }
   ],
   "source": [
    "# Lets check first the dimesions of df before droping `NaN` values. Use the .shape feature. \n",
    "print(df.shape)\n",
    "\n",
    "# Use the dropna() method to eliminate all the NaN values, and overwrite the same dataframe with the result. \n",
    "df = df.dropna()\n",
    "\n",
    "# Check the new dimesions of our dataframe. \n",
    "print(df.shape)"
   ]
  },
  {
   "cell_type": "markdown",
   "metadata": {
    "colab_type": "text",
    "id": "qtfeQKtAFcvd"
   },
   "source": [
    "### 2f. Filter the data so that we only see whose apps that have been reviewed at least once\n",
    "\n",
    "Apps that haven't been reviewed yet can't help us solve our brief. \n",
    "\n",
    "So let's check to see if any apps have no reviews at all. "
   ]
  },
  {
   "cell_type": "code",
   "execution_count": 155,
   "metadata": {
    "colab": {},
    "colab_type": "code",
    "id": "Ge9OKXLNFcvd"
   },
   "outputs": [
    {
     "data": {
      "text/plain": [
       "Category    929\n",
       "Rating      929\n",
       "Reviews     929\n",
       "Price       929\n",
       "platform    929\n",
       "dtype: int64"
      ]
     },
     "execution_count": 155,
     "metadata": {},
     "output_type": "execute_result"
    }
   ],
   "source": [
    "# Subset your df to pick out just those rows whose value for 'Reviews' is equal to 0. \n",
    "# Do a count() on the result. \n",
    "df[df.Reviews==0].count()"
   ]
  },
  {
   "cell_type": "markdown",
   "metadata": {
    "colab_type": "text",
    "id": "05f7H0kAFcvg"
   },
   "source": [
    "929 apps do not have reviews, we need to eliminate these points!"
   ]
  },
  {
   "cell_type": "code",
   "execution_count": 156,
   "metadata": {
    "colab": {},
    "colab_type": "code",
    "id": "pD8vmPjkFcvg"
   },
   "outputs": [],
   "source": [
    "# Eliminate the points that have 0 reviews.\n",
    "df = df[df.Reviews!=0]"
   ]
  },
  {
   "cell_type": "markdown",
   "metadata": {
    "colab_type": "text",
    "id": "ApnKES_bFcvi"
   },
   "source": [
    "### 2g. Summarize the data visually and analytically (by the column `platform`)"
   ]
  },
  {
   "cell_type": "markdown",
   "metadata": {
    "colab_type": "text",
    "id": "2smt9UocFcvj"
   },
   "source": [
    "What we need to solve our brief is a summary of the `Rating` column, but separated by the different platforms."
   ]
  },
  {
   "cell_type": "code",
   "execution_count": 157,
   "metadata": {},
   "outputs": [
    {
     "data": {
      "text/plain": [
       "Index(['Category', 'Rating', 'Reviews', 'Price', 'platform'], dtype='object')"
      ]
     },
     "execution_count": 157,
     "metadata": {},
     "output_type": "execute_result"
    }
   ],
   "source": [
    "df.columns"
   ]
  },
  {
   "cell_type": "code",
   "execution_count": 158,
   "metadata": {
    "colab": {},
    "colab_type": "code",
    "id": "Vqckt347Fcvj"
   },
   "outputs": [
    {
     "data": {
      "text/html": [
       "<div>\n",
       "<style scoped>\n",
       "    .dataframe tbody tr th:only-of-type {\n",
       "        vertical-align: middle;\n",
       "    }\n",
       "\n",
       "    .dataframe tbody tr th {\n",
       "        vertical-align: top;\n",
       "    }\n",
       "\n",
       "    .dataframe thead th {\n",
       "        text-align: right;\n",
       "    }\n",
       "</style>\n",
       "<table border=\"1\" class=\"dataframe\">\n",
       "  <thead>\n",
       "    <tr style=\"text-align: right;\">\n",
       "      <th></th>\n",
       "      <th>count</th>\n",
       "      <th>mean</th>\n",
       "      <th>std</th>\n",
       "      <th>min</th>\n",
       "      <th>25%</th>\n",
       "      <th>50%</th>\n",
       "      <th>75%</th>\n",
       "      <th>max</th>\n",
       "    </tr>\n",
       "    <tr>\n",
       "      <th>platform</th>\n",
       "      <th></th>\n",
       "      <th></th>\n",
       "      <th></th>\n",
       "      <th></th>\n",
       "      <th></th>\n",
       "      <th></th>\n",
       "      <th></th>\n",
       "      <th></th>\n",
       "    </tr>\n",
       "  </thead>\n",
       "  <tbody>\n",
       "    <tr>\n",
       "      <th>apple</th>\n",
       "      <td>6268.0</td>\n",
       "      <td>4.049697</td>\n",
       "      <td>0.726943</td>\n",
       "      <td>1.0</td>\n",
       "      <td>4.0</td>\n",
       "      <td>4.5</td>\n",
       "      <td>4.5</td>\n",
       "      <td>5.0</td>\n",
       "    </tr>\n",
       "    <tr>\n",
       "      <th>google</th>\n",
       "      <td>9366.0</td>\n",
       "      <td>4.191757</td>\n",
       "      <td>0.515219</td>\n",
       "      <td>1.0</td>\n",
       "      <td>4.0</td>\n",
       "      <td>4.3</td>\n",
       "      <td>4.5</td>\n",
       "      <td>5.0</td>\n",
       "    </tr>\n",
       "  </tbody>\n",
       "</table>\n",
       "</div>"
      ],
      "text/plain": [
       "           count      mean       std  min  25%  50%  75%  max\n",
       "platform                                                     \n",
       "apple     6268.0  4.049697  0.726943  1.0  4.0  4.5  4.5  5.0\n",
       "google    9366.0  4.191757  0.515219  1.0  4.0  4.3  4.5  5.0"
      ]
     },
     "execution_count": 158,
     "metadata": {},
     "output_type": "execute_result"
    }
   ],
   "source": [
    "# To summarize analytically, let's use the groupby() method on our df.\n",
    "df.groupby(by='platform')['Rating'].describe()"
   ]
  },
  {
   "cell_type": "markdown",
   "metadata": {
    "colab_type": "text",
    "id": "8f9TqMtKFcvl"
   },
   "source": [
    "Interesting! Our means of 4.049697 and 4.191757 don't **seem** all that different! Perhaps we've solved our brief already: there's no significant difference between Google Play app reviews and Apple Store app reviews. We have an ***observed difference*** here: which is simply (4.191757 - 4.049697) = 0.14206. This is just the actual difference that we observed between the mean rating for apps from Google Play, and the mean rating for apps from the Apple Store. Let's look at how we're going to use this observed difference to solve our problem using a statistical test. \n",
    "\n",
    "**Outline of our method:**\n",
    "1. We'll assume that platform (i.e, whether the app was Google or Apple) really doesn’t impact on ratings. \n",
    "\n",
    "\n",
    "2. Given this assumption, we should actually be able to get a difference in mean rating for Apple apps and mean rating for Google apps that's pretty similar to the one we actually got (0.14206) just by: \n",
    "a. shuffling the ratings column, \n",
    "b. keeping the platform column the same,\n",
    "c. calculating the difference between the mean rating for Apple and the mean rating for Google. \n",
    "\n",
    "\n",
    "3. We can make the shuffle more useful by doing it many times, each time calculating the mean rating for Apple apps and the mean rating for Google apps, and the difference between these means. \n",
    "\n",
    "\n",
    "4. We can then take the mean of all these differences, and this will be called our permutation difference. This permutation difference will be great indicator of what the difference would be if our initial assumption were true and platform really doesn’t impact on ratings. \n",
    "\n",
    "\n",
    "5. Now we do a comparison. If the observed difference looks just like the permutation difference, then we stick with the claim that actually, platform doesn’t impact on ratings. If instead, however, the permutation difference differs significantly from the observed difference, we'll conclude: something's going on; the platform does in fact impact on ratings. \n",
    "\n",
    "\n",
    "6. As for what the definition of *significantly* is, we'll get to that. But there’s a brief summary of what we're going to do. Exciting!\n",
    "\n",
    "If you want to look more deeply at the statistics behind this project, check out [this resource](https://www.springboard.com/archeio/download/4ea4d453b0b84014bcef287c50f47f00/)."
   ]
  },
  {
   "cell_type": "markdown",
   "metadata": {
    "colab_type": "text",
    "id": "d6EhTxArFcvm"
   },
   "source": [
    "Let's also get a **visual summary** of the `Rating` column, separated by the different platforms. \n",
    "\n",
    "A good tool to use here is the boxplot!"
   ]
  },
  {
   "cell_type": "code",
   "execution_count": 159,
   "metadata": {
    "colab": {},
    "colab_type": "code",
    "id": "hFKjrlWgFcvm"
   },
   "outputs": [
    {
     "ename": "SyntaxError",
     "evalue": "invalid syntax (<ipython-input-159-35e2916978c7>, line 2)",
     "output_type": "error",
     "traceback": [
      "\u001b[0;36m  File \u001b[0;32m\"<ipython-input-159-35e2916978c7>\"\u001b[0;36m, line \u001b[0;32m2\u001b[0m\n\u001b[0;31m    df.boxplot(by=_ _ _, column ='Rating', grid=False, rot=45, fontsize=15)\u001b[0m\n\u001b[0m                    ^\u001b[0m\n\u001b[0;31mSyntaxError\u001b[0m\u001b[0;31m:\u001b[0m invalid syntax\n"
     ]
    }
   ],
   "source": [
    "# Call the boxplot() method on our df.\n",
    "df.boxplot(by=_ _ _, column ='Rating', grid=False, rot=45, fontsize=15)"
   ]
  },
  {
   "cell_type": "markdown",
   "metadata": {
    "colab_type": "text",
    "id": "FqTlAjnmFcvo"
   },
   "source": [
    "Here we see the same information as in the analytical summary, but with a boxplot. Can you see how the boxplot is working here? If you need to revise your boxplots, check out this this [link](https://www.kaggle.com/ramamet4/app-store-apple-data-set-10k-apps). "
   ]
  },
  {
   "cell_type": "markdown",
   "metadata": {
    "colab_type": "text",
    "id": "O8L-s1fgFcvp"
   },
   "source": [
    "## Stage 3 - Modelling"
   ]
  },
  {
   "cell_type": "markdown",
   "metadata": {
    "colab_type": "text",
    "id": "5fbRq2MZFcvq"
   },
   "source": [
    "### 3a. Hypothesis formulation\n",
    "\n",
    "Our **Null hypothesis** is just:\n",
    "\n",
    "**H<sub>null</sub>**: the observed difference in the mean rating of Apple Store and Google Play apps is due to chance (and thus not due to the platform).\n",
    "\n",
    "The more interesting hypothesis is called the **Alternate hypothesis**:\n",
    "\n",
    "**H<sub>alternative</sub>**: the observed difference in the average ratings of apple and google users is not due to chance (and is actually due to platform)\n",
    "\n",
    "We're also going to pick a **significance level** of 0.05. "
   ]
  },
  {
   "cell_type": "markdown",
   "metadata": {
    "colab_type": "text",
    "id": "TjBqkabaFcvq"
   },
   "source": [
    "### 3b. Getting the distribution of the data\n",
    "Now that the hypotheses and significance level are defined, we can select a statistical test to determine which hypothesis to accept. \n",
    "\n",
    "There are many different statistical tests, all with different assumptions. You'll generate an excellent judgement about when to use which statistical tests over the Data Science Career Track course. But in general, one of the most important things to determine is the **distribution of the data**.   "
   ]
  },
  {
   "cell_type": "code",
   "execution_count": 163,
   "metadata": {
    "colab": {},
    "colab_type": "code",
    "id": "bFwVhkeWFcvr"
   },
   "outputs": [
    {
     "data": {
      "text/plain": [
       "0       4.0\n",
       "1       4.0\n",
       "2       3.5\n",
       "3       4.0\n",
       "4       4.5\n",
       "       ... \n",
       "7192    4.5\n",
       "7193    4.5\n",
       "7194    4.5\n",
       "7195    4.5\n",
       "7196    5.0\n",
       "Name: Rating, Length: 6268, dtype: float64"
      ]
     },
     "execution_count": 163,
     "metadata": {},
     "output_type": "execute_result"
    }
   ],
   "source": [
    "# Create a subset of the column 'Rating' by the different platforms.\n",
    "# Call the subsets 'apple' and 'google' \n",
    "apple = df[df['platform']=='apple']['Rating']\n",
    "google = df[df['platform']=='google']['Rating']\n",
    "apple"
   ]
  },
  {
   "cell_type": "code",
   "execution_count": null,
   "metadata": {
    "colab": {},
    "colab_type": "code",
    "id": "oPPFpwPvFcvu"
   },
   "outputs": [],
   "source": [
    "# Using the stats.normaltest() method, get an indication of whether the apple data are normally distributed\n",
    "# Save the result in a variable called apple_normal, and print it out\n",
    "apple_normal = stats.normaltest(apple)\n",
    "apple_normal"
   ]
  },
  {
   "cell_type": "code",
   "execution_count": null,
   "metadata": {
    "colab": {},
    "colab_type": "code",
    "id": "rCdh8a8KFcvw"
   },
   "outputs": [],
   "source": [
    "# Do the same with the google data. \n",
    "google_normal = stats.normaltest(google)\n",
    "google_normal"
   ]
  },
  {
   "cell_type": "markdown",
   "metadata": {
    "colab_type": "text",
    "id": "9gDqu21yFcv0"
   },
   "source": [
    "Since the null hypothesis of the normaltest() is that the data are normally distributed, the lower the p-value in the result of this test, the more likely the data are to be non-normal. \n",
    "\n",
    "Since the p-values is 0 for both tests, regardless of what we pick for the significance level, our conclusion is that the data are not normally distributed. \n",
    "\n",
    "We can actually also check out the distribution of the data visually with a histogram. A normal distribution has the following visual characteristics:\n",
    "    - symmetric\n",
    "    - unimodal (one hump)\n",
    "As well as a roughly identical mean, median and mode. "
   ]
  },
  {
   "cell_type": "code",
   "execution_count": null,
   "metadata": {
    "colab": {},
    "colab_type": "code",
    "id": "P9tT9RjNFcv1"
   },
   "outputs": [],
   "source": [
    "# Create a histogram of the apple reviews distribution\n",
    "plt.hist(apple)"
   ]
  },
  {
   "cell_type": "code",
   "execution_count": null,
   "metadata": {
    "colab": {},
    "colab_type": "code",
    "id": "8dE1uC5iFcv2"
   },
   "outputs": [],
   "source": [
    "# Create a histogram of the google data\n",
    "plt.hist(google)"
   ]
  },
  {
   "cell_type": "markdown",
   "metadata": {
    "colab_type": "text",
    "id": "QhZV89FzFcv5"
   },
   "source": [
    "### 3c. Permutation test\n",
    "Since the data aren't normally distributed, we're using a *non-parametric* test here. This is simply a label for statistical tests used when the data aren't normally distributed. These tests are extraordinarily powerful due to how few assumptions we need to make.  \n",
    "\n",
    "Check out more about permutations [here.](http://rasbt.github.io/mlxtend/user_guide/evaluate/permutation_test/)"
   ]
  },
  {
   "cell_type": "code",
   "execution_count": null,
   "metadata": {
    "colab": {},
    "colab_type": "code",
    "id": "bxNhQgpqFcv6"
   },
   "outputs": [],
   "source": [
    "# Create a column called `Permutation1`, and assign to it the result of permuting (shuffling) the Rating column\n",
    "# This assignment will use our numpy object's random.permutation() method\n",
    "df['Permutation1'] = np.random.permutation(df['Rating'])\n",
    "\n",
    "# Call the describe() method on our permutation grouped by 'platform'. \n",
    "df.groupby(by='platform')['Permutation1'].describe()"
   ]
  },
  {
   "cell_type": "code",
   "execution_count": null,
   "metadata": {
    "colab": {},
    "colab_type": "code",
    "id": "AaGNfPGTFcv7"
   },
   "outputs": [],
   "source": [
    "# Lets compare with the previous analytical summary:\n",
    "df.groupby(by='platform')['Rating'].describe()"
   ]
  },
  {
   "cell_type": "code",
   "execution_count": 178,
   "metadata": {},
   "outputs": [
    {
     "data": {
      "text/plain": [
       "array([4. , 2.4, 4.5, ..., 2.5, 4.2, 3.3])"
      ]
     },
     "execution_count": 178,
     "metadata": {},
     "output_type": "execute_result"
    }
   ],
   "source": [
    "permutation=np.random.permutation(df['Rating'])\n",
    "permutation\n"
   ]
  },
  {
   "cell_type": "code",
   "execution_count": 179,
   "metadata": {},
   "outputs": [
    {
     "data": {
      "text/plain": [
       "0        True\n",
       "1        True\n",
       "2        True\n",
       "3        True\n",
       "4        True\n",
       "        ...  \n",
       "7192    False\n",
       "7193    False\n",
       "7194    False\n",
       "7195    False\n",
       "7196    False\n",
       "Name: platform, Length: 15634, dtype: bool"
      ]
     },
     "execution_count": 179,
     "metadata": {},
     "output_type": "execute_result"
    }
   ],
   "source": [
    "df['platform']=='google'"
   ]
  },
  {
   "cell_type": "code",
   "execution_count": null,
   "metadata": {},
   "outputs": [],
   "source": [
    "permutation.shape\n",
    "permutation[df['platform']=='google']"
   ]
  },
  {
   "cell_type": "code",
   "execution_count": null,
   "metadata": {
    "colab": {},
    "colab_type": "code",
    "id": "aJPNpX0JFcv-"
   },
   "outputs": [],
   "source": [
    "# The difference in the means for Permutation1 (0.001103) now looks hugely different to our observed difference of 0.14206. \n",
    "# It's sure starting to look like our observed difference is significant, and that the Null is false; platform does impact on ratings\n",
    "# But to be sure, let's create 10,000 permutations, calculate the mean ratings for Google and Apple apps and the difference between these for each one, and then take the average of all of these differences.\n",
    "# Let's create a vector with the differences - that will be the distibution of the Null.\n",
    "\n",
    "# First, make a list called difference.\n",
    "difference = list()\n",
    "\n",
    "# Now make a for loop that does the following 10,000 times:\n",
    "# 1. makes a permutation of the 'Rating' as you did above\n",
    "# 2. calculates the difference in the mean rating for apple and the mean rating for google. \n",
    "for i in range(10000): \n",
    "    permutation =np.random.permutation(df['Rating'])\n",
    "    difference.append(np.mean(permutation[df['platform']=='apple'])- np.mean(permutation[df['platform']=='google']))"
   ]
  },
  {
   "cell_type": "code",
   "execution_count": 160,
   "metadata": {
    "colab": {},
    "colab_type": "code",
    "id": "VlzpYTkYFcv_"
   },
   "outputs": [
    {
     "data": {
      "image/png": "[encoded data removed]",
      "text/plain": [
       "<Figure size 432x288 with 1 Axes>"
      ]
     },
     "metadata": {
      "needs_background": "light"
     },
     "output_type": "display_data"
    }
   ],
   "source": [
    "# Make a variable called 'histo', and assign to it the result of plotting a histogram of the difference list. \n",
    "histo = plt.hist(difference)"
   ]
  },
  {
   "cell_type": "code",
   "execution_count": 164,
   "metadata": {
    "colab": {},
    "colab_type": "code",
    "id": "KhqgDFd3FcwB"
   },
   "outputs": [
    {
     "name": "stdout",
     "output_type": "stream",
     "text": [
      "0.1981578610720225\n"
     ]
    }
   ],
   "source": [
    "# Now make a variable called obs_difference, and assign it the result of the mean of our 'apple' variable and the mean of our 'google variable'\n",
    "obs_difference = np.mean(df['platform']=='apple') - np.mean(df['platform']=='google')\n",
    "\n",
    "# Make this difference absolute with the built-in abs() function. \n",
    "obs_difference = abs(obs_difference)\n",
    "\n",
    "# Print out this value; it should be 0.1420605474512291. \n",
    "print(obs_difference)"
   ]
  },
  {
   "cell_type": "markdown",
   "metadata": {
    "colab_type": "text",
    "id": "QUNuuSgDFcwE"
   },
   "source": [
    "## Stage 4 -  Evaluating and concluding\n",
    "### 4a. What is our conclusion?"
   ]
  },
  {
   "cell_type": "code",
   "execution_count": 175,
   "metadata": {},
   "outputs": [
    {
     "data": {
      "text/plain": [
       "[-0.021315734749691728,\n",
       " -0.006961642547191893,\n",
       " 0.010827844635125317,\n",
       " 0.005767960556322116,\n",
       " -0.0023811159074327293,\n",
       " -0.00845297680199586,\n",
       " -0.006349130263968661,\n",
       " 0.003344542392264671,\n",
       " -0.009544846524265793,\n",
       " 0.011493618856021293,\n",
       " -0.003153414003673305,\n",
       " 0.0083777955022315,\n",
       " -0.0036594024115519375,\n",
       " -0.0024077468762699894,\n",
       " -0.010716609153040402,\n",
       " -0.026029416233627423,\n",
       " 0.005528281836800986,\n",
       " 0.015355109337212625,\n",
       " 0.011999607263900813,\n",
       " 0.005315234086113563,\n",
       " -0.005390415385879699,\n",
       " -0.02467123682300265,\n",
       " -0.005124105697521308,\n",
       " -3.759064988173577e-05,\n",
       " -0.002274592032090794,\n",
       " 0.015754573869748434,\n",
       " 0.002039624919309979,\n",
       " 0.00811148581387311,\n",
       " 0.004729352771725814,\n",
       " -0.003739295318060165,\n",
       " 0.004090209519667987,\n",
       " 0.012186024045750976,\n",
       " 0.013890406051242365,\n",
       " 0.00922998650497675,\n",
       " -0.027707167270284216,\n",
       " 0.00033524291381858973,\n",
       " 0.004995662460084205,\n",
       " 0.004116840488502582,\n",
       " 0.0033978043299356386,\n",
       " 0.026673271092430006,\n",
       " 0.003158125610412732,\n",
       " 0.0025456133271895,\n",
       " -0.006029558637938415,\n",
       " -0.02182172315757125,\n",
       " -0.015962910013694653,\n",
       " -0.005070843759849453,\n",
       " -0.0013957700605082834,\n",
       " -0.009837787181459667,\n",
       " -0.003233306910178868,\n",
       " -0.007281214173222139,\n",
       " -0.00453822438313356,\n",
       " -0.0031534140036724168,\n",
       " -0.00427191469477517,\n",
       " -0.0044583314766262205,\n",
       " -0.007627416768086981,\n",
       " -0.0043251766324479135,\n",
       " -0.011861740812981303,\n",
       " -0.009837787181459667,\n",
       " -0.009864418150295151,\n",
       " -0.007361107079729479,\n",
       " 0.0018532081374598164,\n",
       " 0.0023059346076683696,\n",
       " -0.013113396348262363,\n",
       " -0.02155541346921286,\n",
       " -0.01907873336748267,\n",
       " 0.007712021281335524,\n",
       " 0.0068065683409184174,\n",
       " -0.017081410704799183,\n",
       " -0.0030202591594932215,\n",
       " 0.004809245678234042,\n",
       " -0.004378438570118881,\n",
       " 0.0035842211117866896,\n",
       " -0.014764516416082785,\n",
       " -0.0068817496406845535,\n",
       " 0.01436976349028729,\n",
       " -0.02371252194491369,\n",
       " 0.008431057439903356,\n",
       " -0.011595431124622912,\n",
       " -0.01284708665990486,\n",
       " 0.005927746369336795,\n",
       " -0.0048045340714919504,\n",
       " -0.005177367635193164,\n",
       " -0.015110719010947626,\n",
       " 0.0019331010439662677,\n",
       " -0.003233306910178868,\n",
       " 0.01189308338855799,\n",
       " -0.004564855351969044,\n",
       " -0.005070843759850341,\n",
       " 0.002865184953219746,\n",
       " 0.01026859428957394,\n",
       " 0.019775850163955333,\n",
       " 0.00539512699262179,\n",
       " -0.01266066987805381,\n",
       " -0.004245283725939686,\n",
       " 0.031200535794515538,\n",
       " -0.004804534071491062,\n",
       " -0.007627416768087869,\n",
       " 0.0077652832190073795,\n",
       " 0.0012939577919075518,\n",
       " 0.003957054675487903,\n",
       " 0.005608174743308325,\n",
       " -0.011728585968802108,\n",
       " -0.005017581822178485,\n",
       " -0.019371674024677432,\n",
       " 0.003051601735070797,\n",
       " -0.006002927669102043,\n",
       " -0.0018218655618813528,\n",
       " 0.00222604170116103,\n",
       " -0.0023811159074336175,\n",
       " -0.011781847906472187,\n",
       " -0.009358429742413854,\n",
       " 0.00443641211453194,\n",
       " 0.007152770935784147,\n",
       " -0.011542169186951057,\n",
       " -0.029305025400431006,\n",
       " -0.005124105697521308,\n",
       " -0.010663347215367658,\n",
       " 0.00811148581387311,\n",
       " -0.004032235975252263,\n",
       " 0.004036947581995243,\n",
       " 0.010481642040259587,\n",
       " 0.01471596608515302,\n",
       " -0.0005169480889257727,\n",
       " 0.015914359682763113,\n",
       " 0.020574779229030504,\n",
       " 0.002066255888145463,\n",
       " -0.0015022939358511067,\n",
       " -0.004431700507789849,\n",
       " 0.006966354153933985,\n",
       " -0.0097845252437887,\n",
       " -0.0027539494711357193,\n",
       " 0.010188701383065712,\n",
       " 0.015568157087898271,\n",
       " -0.00557683216773075,\n",
       " -0.013166658285934218,\n",
       " -0.0017419726553740134,\n",
       " 0.007871807094351091,\n",
       " 0.024249852928371673,\n",
       " 0.0016401603867732817,\n",
       " -0.011462276280441941,\n",
       " -0.010583454308860318,\n",
       " -0.00025063840056915865,\n",
       " 0.021906327670819792,\n",
       " 0.011573511762527744,\n",
       " 0.003957054675487015,\n",
       " -0.006029558637939303,\n",
       " -0.006588808983489791,\n",
       " -0.0006234719642712605,\n",
       " 0.005554912805634693,\n",
       " -0.014018849288680357,\n",
       " -0.002301223000926278,\n",
       " -0.0025675326892846684,\n",
       " 0.013198000861511794,\n",
       " 0.008697367128260858,\n",
       " 0.027845033721204615,\n",
       " -0.0168417319852745,\n",
       " 0.006966354153933985,\n",
       " 0.0013205887607439237,\n",
       " 0.011040892385810963,\n",
       " 0.002705399140205067,\n",
       " 0.0064869967148890595,\n",
       " -0.0023544849385981337,\n",
       " -0.017427613299663136,\n",
       " 0.01873724237935992,\n",
       " -0.0168417319852745,\n",
       " -0.007893726456445371,\n",
       " 0.0004950287268341569,\n",
       " -0.008426345833161264,\n",
       " 0.0015336365114295702,\n",
       " -0.001528924904689255,\n",
       " 1.567128778923177e-05,\n",
       " -0.00043705518242109775,\n",
       " 0.01642034809064441,\n",
       " 0.013677358300556719,\n",
       " 0.0020662558881445747,\n",
       " -0.0018484965307177248,\n",
       " 0.005794591525158488,\n",
       " 0.000601552602176092,\n",
       " -0.007094797391371088,\n",
       " 0.013144738923839938,\n",
       " -0.012048157594830577,\n",
       " 0.005954377338174055,\n",
       " 0.005501650867964614,\n",
       " 0.0005749216333406082,\n",
       " -0.005949665731431075,\n",
       " -0.007574154830415125,\n",
       " 0.013544203456377524,\n",
       " -0.01532376676163505,\n",
       " 0.00038850485149044545,\n",
       " 0.010721320759782493,\n",
       " 0.024835734242757646,\n",
       " 0.012771905360139613,\n",
       " 0.010135439445393857,\n",
       " 0.01572794290091384,\n",
       " 0.0023059346076683696,\n",
       " -0.018705899803781456,\n",
       " -0.023925569695600224,\n",
       " 0.013331155705690989,\n",
       " 0.0006548145398488359,\n",
       " -3.759064988262395e-05,\n",
       " 0.013837144113572286,\n",
       " -0.0025142707516128127,\n",
       " -0.015616707418828035,\n",
       " -0.0023544849385972455,\n",
       " -0.007893726456445371,\n",
       " -0.013033503441755911,\n",
       " -0.001688710717703934,\n",
       " 0.01506216868001875,\n",
       " -0.01204815759482969,\n",
       " 0.0072859257799633426,\n",
       " -0.009145381991728208,\n",
       " -0.003686033380386533,\n",
       " 0.01109415432348193,\n",
       " -0.003765926286896537,\n",
       " -0.014711254478410929,\n",
       " 0.008404426471066984,\n",
       " 0.009123462629634815,\n",
       " -0.0006501029331067443,\n",
       " -0.005177367635193164,\n",
       " -0.0010229364968088461,\n",
       " 0.011040892385811851,\n",
       " -0.005496939261222522,\n",
       " -0.0009164126214642465,\n",
       " -0.011462276280442829,\n",
       " -0.003792557255732021,\n",
       " -0.0022213300944198267,\n",
       " -0.023233164505869652,\n",
       " -0.0024077468762691012,\n",
       " 0.004303257270353633,\n",
       " -0.00030390033824101437,\n",
       " -0.0027273185022993474,\n",
       " -0.008106774207131906,\n",
       " 0.007685390312500928,\n",
       " 0.0018265771686234444,\n",
       " 0.0023059346076674814,\n",
       " -0.0005169480889266609,\n",
       " 0.005688067649816553,\n",
       " 0.007365818686469794,\n",
       " 0.013038215048497115,\n",
       " 0.013943667988915998,\n",
       " -0.010956287872563308,\n",
       " -0.005337153448207843,\n",
       " -0.036841589580965284,\n",
       " 0.0032646494857564434,\n",
       " -0.0027006875334629754,\n",
       " 0.00922998650497675,\n",
       " -0.0009963055279724742,\n",
       " 0.004409781145696456,\n",
       " 0.0045961979275483955,\n",
       " -0.006455654139311484,\n",
       " 0.004809245678234042,\n",
       " 0.0027852920467124065,\n",
       " 0.0005482906645051244,\n",
       " -0.0031534140036706404,\n",
       " -0.007174690297878428,\n",
       " -0.007174690297878428,\n",
       " 0.009949022663544582,\n",
       " -0.001022936496807958,\n",
       " -0.008559500677339571,\n",
       " 0.012106131139243637,\n",
       " -0.006535547045818824,\n",
       " 0.0007347074463561754,\n",
       " 0.005794591525158488,\n",
       " 0.006114163151186958,\n",
       " 0.007498973530648989,\n",
       " -0.011462276280442829,\n",
       " 0.0039037927378169357,\n",
       " 0.015488264181390932,\n",
       " 0.0005749216333406082,\n",
       " -0.008053512269460938,\n",
       " 0.007099508998112292,\n",
       " -0.010929656903726048,\n",
       " 0.019829112101628077,\n",
       " -0.02728107176891026,\n",
       " -0.009651370399607728,\n",
       " -0.006908380609519149,\n",
       " -0.013912325413336646,\n",
       " -0.005310522479372359,\n",
       " 0.007046247060440436,\n",
       " -0.013459598943128093,\n",
       " 0.007578866437157217,\n",
       " -0.009358429742413854,\n",
       " -0.003286568847851612,\n",
       " -0.00829319098898118,\n",
       " 0.005022293428920577,\n",
       " 0.012878429235483324,\n",
       " -0.004085497912925007,\n",
       " 0.010934368510469028,\n",
       " -0.014791147384918268,\n",
       " 0.011440356918349437,\n",
       " 0.003957054675487903,\n",
       " 0.00443641211453194,\n",
       " -0.006668701889998907,\n",
       " 0.002385827514175709,\n",
       " -0.006029558637939303,\n",
       " -0.0067485947965062465,\n",
       " -0.009092120054056352,\n",
       " -0.011142704654413471,\n",
       " 0.005102186335427028,\n",
       " -0.007733940643429804,\n",
       " 0.010534903977931442,\n",
       " 0.003238018516921848,\n",
       " 0.02113402957458188,\n",
       " 0.008670736159425374,\n",
       " -0.01822654236473742,\n",
       " 0.003158125610412732,\n",
       " -0.004831165040326546,\n",
       " -0.0021680681567470828,\n",
       " 0.001906470075131672,\n",
       " -0.0013691390916736879,\n",
       " 0.0009211242282072263,\n",
       " 0.0007080764775198034,\n",
       " -0.016735208109933453,\n",
       " 0.007099508998112292,\n",
       " 0.008670736159425374,\n",
       " -0.017187934580141118,\n",
       " -0.006535547045818824,\n",
       " -0.0020349133125678875,\n",
       " -0.012980241504084056,\n",
       " 0.0109609994793054,\n",
       " 0.010241963320738456,\n",
       " 0.003664114018294029,\n",
       " -0.003073521097164189,\n",
       " -0.0033930927231944352,\n",
       " 0.0018532081374589282,\n",
       " -0.008106774207131018,\n",
       " 0.0221460063903427,\n",
       " -0.002807211408806687,\n",
       " 0.010987630448139996,\n",
       " 0.005075555366591544,\n",
       " 0.0009477551970418219,\n",
       " -0.015270504823963194,\n",
       " 0.0018265771686234444,\n",
       " 0.008271271626887788,\n",
       " 0.004063578550831615,\n",
       " -0.003792557255732021,\n",
       " 0.011147416261153786,\n",
       " 0.009842498788199983,\n",
       " -0.0014490319981801392,\n",
       " -0.011329121436263634,\n",
       " -0.009385060711251114,\n",
       " 0.01788505137661378,\n",
       " -0.0014490319981801392,\n",
       " -0.005789879918416396,\n",
       " -0.0023544849385981337,\n",
       " 0.005048924397755172,\n",
       " -0.005869772824925512,\n",
       " -0.001635448780030302,\n",
       " 0.007498973530648989,\n",
       " 0.014396394459122774,\n",
       " 0.008244640658052305,\n",
       " -0.005976296700266559,\n",
       " 0.01522195449303343,\n",
       " 0.0037440069248013685,\n",
       " -0.026562035610344203,\n",
       " 0.010055546538886517,\n",
       " -0.009970942025637974,\n",
       " -0.0023811159074336175,\n",
       " 0.011946345326229846,\n",
       " -0.012607407940381954,\n",
       " -0.006136082513283014,\n",
       " 0.014103453801929788,\n",
       " -0.004271914694776058,\n",
       " 0.0026255062336977275,\n",
       " -0.01026388268283096,\n",
       " 0.004329888239189117,\n",
       " 0.0008146003528626267,\n",
       " 0.013224631830347278,\n",
       " 0.007498973530648989,\n",
       " -0.018013494614049996,\n",
       " -0.001182722309822637,\n",
       " 0.01034848719608128,\n",
       " 0.008510950346410695,\n",
       " 0.00768539031250004,\n",
       " 0.004010316613160647,\n",
       " -0.007920357425280855,\n",
       " 0.006540258652560915,\n",
       " 0.007951700000859319,\n",
       " 0.012665381484795013,\n",
       " -0.010689978184205806,\n",
       " 0.007951700000859319,\n",
       " 0.0060342702446813945,\n",
       " 0.008590843252917146,\n",
       " -0.01854611399076589,\n",
       " 0.012692012453632273,\n",
       " 0.009176724567305783,\n",
       " 0.0004417667891605248,\n",
       " -0.011382383373936378,\n",
       " -0.009544846524264017,\n",
       " 0.0053684960237854185,\n",
       " -0.018333066240080242,\n",
       " 0.01146698788718492,\n",
       " 0.008697367128260858,\n",
       " -0.010610085277695802,\n",
       " -0.0033664617543580633,\n",
       " 0.009789236850528127,\n",
       " -0.011382383373936378,\n",
       " -0.010157358807488137,\n",
       " -0.010743240121875886,\n",
       " 0.005581543774471953,\n",
       " -0.01907873336748178,\n",
       " 0.013304524736856393,\n",
       " -0.0048045340714919504,\n",
       " 0.012745274391304129,\n",
       " -0.0013957700605091716,\n",
       " -0.002434377845105473,\n",
       " 0.004329888239188229,\n",
       " -0.005017581822177597,\n",
       " -0.00909212005405724,\n",
       " 0.012159393076915492,\n",
       " 0.0008678622905344824,\n",
       " 0.009150093598470299,\n",
       " -0.0016887107177030458,\n",
       " -0.005203998604029536,\n",
       " 0.009602820068677964,\n",
       " -0.009624739430772244,\n",
       " -0.003712664349223793,\n",
       " -0.0021946991255825665,\n",
       " 0.00030861194498310596,\n",
       " 0.009469665224498769,\n",
       " 0.004596197927547507,\n",
       " -0.002514270751613701,\n",
       " 0.006753306403248338,\n",
       " -0.01002420396330983,\n",
       " 0.011227309167662902,\n",
       " -0.022833699973332067,\n",
       " 0.00419673339501081,\n",
       " -0.014924302229097464,\n",
       " 0.006273948964202525,\n",
       " 0.002865184953220634,\n",
       " -0.0029669972218204776,\n",
       " -0.0048045340714919504,\n",
       " 0.00315812561041362,\n",
       " -0.00160881781119393,\n",
       " -0.00025063840056915865,\n",
       " -0.013406337005456237,\n",
       " 0.016660026810167317,\n",
       " 0.003637483049457657,\n",
       " 0.008830521972440053,\n",
       " -0.006162713482118498,\n",
       " -0.013486229911963576,\n",
       " -0.0073611070797285905,\n",
       " 0.0076321283748290725,\n",
       " -0.023472843225390783,\n",
       " 0.01215939307691638,\n",
       " -0.01095628787256242,\n",
       " 0.006087532182351474,\n",
       " -0.002168068156747971,\n",
       " 4.230225662471554e-05,\n",
       " -0.004405069538954365,\n",
       " -0.0024876397827764407,\n",
       " -0.004458331476625332,\n",
       " -0.003712664349222905,\n",
       " -0.012873717628739456,\n",
       " 0.005741329587486632,\n",
       " 0.002705399140205955,\n",
       " -0.010263882682831849,\n",
       " -0.002780580439970315,\n",
       " -0.008373083895489408,\n",
       " -0.007361107079729479,\n",
       " 0.01255885760945219,\n",
       " -0.0026474255957911197,\n",
       " 0.010827844635125317,\n",
       " 0.007951700000859319,\n",
       " -0.01883905464796154,\n",
       " -0.013273182161277042,\n",
       " 0.007738652250171896,\n",
       " 0.002385827514175709,\n",
       " -0.006721963827668986,\n",
       " 0.012212655014588236,\n",
       " 0.00582122249399486,\n",
       " -0.004884426978000178,\n",
       " -0.013166658285935107,\n",
       " -0.006721963827668986,\n",
       " -0.00557683216773075,\n",
       " -0.016735208109932564,\n",
       " 0.008484319377575211,\n",
       " -0.009438322648921194,\n",
       " 0.007179401904619631,\n",
       " -0.003259937879014352,\n",
       " -0.0015022939358511067,\n",
       " -0.004271914694776058,\n",
       " 0.012186024045750976,\n",
       " 0.008138116782709481,\n",
       " -0.002274592032090794,\n",
       " -0.003712664349223793,\n",
       " 0.005714698618651148,\n",
       " 0.012079500170409041,\n",
       " -0.007387738048564074,\n",
       " 0.0076321283748290725,\n",
       " 0.009789236850529015,\n",
       " 0.004729352771725814,\n",
       " 0.0001488261319675388,\n",
       " -0.0012626152163299764,\n",
       " -0.010104096869818058,\n",
       " -0.009651370399608616,\n",
       " -0.013486229911963576,\n",
       " 0.004409781145696456,\n",
       " 0.01618066937112239,\n",
       " -0.004990950853342113,\n",
       " 0.006859830278590273,\n",
       " 0.0025456133271895,\n",
       " 0.0011341719788910964,\n",
       " -3.759064988262395e-05,\n",
       " 0.003690744987130401,\n",
       " -0.011915002750651382,\n",
       " -0.004245283725940574,\n",
       " 0.016633395841331833,\n",
       " -0.015590076449992551,\n",
       " -0.010237251713996365,\n",
       " 0.028537438910935187,\n",
       " -0.006482285108148744,\n",
       " -0.0017686036242103853,\n",
       " -0.005683356043073573,\n",
       " -0.0050974747286849365,\n",
       " -0.004618117289641788,\n",
       " -0.017187934580141118,\n",
       " 0.010827844635125317,\n",
       " 0.008004961938530286,\n",
       " 0.007658759343664556,\n",
       " 0.0023059346076674814,\n",
       " -0.00797361936295271,\n",
       " 0.0024124584830103046,\n",
       " -0.002594163658120152,\n",
       " 0.006114163151187846,\n",
       " -0.011835109844144043,\n",
       " -0.0016088178111948181,\n",
       " 0.006087532182352362,\n",
       " 0.011227309167661126,\n",
       " -0.007654047736924241,\n",
       " -0.01753413717500596,\n",
       " -0.006562178014654307,\n",
       " -0.004671379227313643,\n",
       " -6.42216187189959e-05,\n",
       " -0.004032235975253151,\n",
       " 0.01615403840228513,\n",
       " 0.005954377338173167,\n",
       " -0.0030468901283287053,\n",
       " 0.006966354153933096,\n",
       " 0.0018265771686234444,\n",
       " -0.004831165040328322,\n",
       " -0.005869772824924624,\n",
       " -0.01191500275065227,\n",
       " -0.002434377845104585,\n",
       " 0.0029717088285625692,\n",
       " 0.0006814455086843196,\n",
       " 0.00257224429602676,\n",
       " 0.0024657204206821604,\n",
       " 0.004036947581995243,\n",
       " 0.004303257270353633,\n",
       " -0.008985596178711752,\n",
       " 0.003797268862472336,\n",
       " -0.0025142707516119245,\n",
       " -0.0009963055279733624,\n",
       " 0.01066805882210975,\n",
       " -0.001182722309822637,\n",
       " -0.007414369017400446,\n",
       " -0.005337153448208731,\n",
       " -0.004724641164984611,\n",
       " 0.0008146003528626267,\n",
       " 0.011307202074170242,\n",
       " -0.0016620797488666739,\n",
       " 0.019056814005389278,\n",
       " -0.0030735210971650773,\n",
       " 0.0016135294179360216,\n",
       " -0.005363784417043327,\n",
       " -0.004032235975253151,\n",
       " 0.005475019899128242,\n",
       " 0.004489674052202908,\n",
       " -0.01260740794038373,\n",
       " 0.007552235468322621,\n",
       " 0.0006548145398479477,\n",
       " -0.010130727838653542,\n",
       " -0.00515073666635768,\n",
       " -0.0051507366663585685,\n",
       " -0.007068166422534716,\n",
       " -0.007307845142056735,\n",
       " -0.0031800449725079005,\n",
       " -0.01284708665990486,\n",
       " -0.018439590115424842,\n",
       " 0.0038771617689805637,\n",
       " -0.021635306375721086,\n",
       " 0.00012219516313205503,\n",
       " 0.01146698788718492,\n",
       " 0.008004961938530286,\n",
       " 0.012878429235482436,\n",
       " -0.015456921605814244,\n",
       " 0.0060076392758450226,\n",
       " 0.016287193246465215,\n",
       " 0.013464310549869296,\n",
       " 0.007658759343664556,\n",
       " 0.0051288173042634,\n",
       " 0.020601410197865988,\n",
       " 0.009229986504977639,\n",
       " 0.02720589046914501,\n",
       " 0.004889138584740493,\n",
       " -0.010583454308861207,\n",
       " 0.006247317995367041,\n",
       " -0.003126783034836933,\n",
       " -0.014444944790053427,\n",
       " 0.0013205887607430356,\n",
       " -0.00512410569752042,\n",
       " -0.0043518076012842855,\n",
       " 0.004276626301517261,\n",
       " 0.012771905360138724,\n",
       " 0.0005216596956696407,\n",
       " 0.01708612231153861,\n",
       " -0.0009164126214642465,\n",
       " -0.013832432506829306,\n",
       " -0.005470308292387038,\n",
       " 0.005182079241935256,\n",
       " 0.004463043083367424,\n",
       " 0.008937045847782876,\n",
       " -0.019664614681871306,\n",
       " 0.0156480499944065,\n",
       " 0.008830521972440053,\n",
       " -0.0044849624454625925,\n",
       " -0.0028072114088057987,\n",
       " -9.085258755447967e-05,\n",
       " 0.003024970766235313,\n",
       " 0.01575457386975021,\n",
       " 0.0033978043299356386,\n",
       " 0.005741329587486632,\n",
       " 0.014955644804675039,\n",
       " -0.004911057946834774,\n",
       " 0.0011075410100565009,\n",
       " -0.003073521097164189,\n",
       " -0.0005702100265985166,\n",
       " -0.023339688381211587,\n",
       " -0.0038724501622393603,\n",
       " -0.0005968409954357767,\n",
       " -0.0023811159074336175,\n",
       " -0.003419723692030807,\n",
       " -0.006455654139312372,\n",
       " -0.0038191882245666164,\n",
       " -0.00017074549406181916,\n",
       " 0.004489674052203796,\n",
       " 0.003770637893635964,\n",
       " -0.002274592032089906,\n",
       " -0.004751272133820095,\n",
       " 0.02121392248108922,\n",
       " 0.014423025427958258,\n",
       " 0.001533636511428682,\n",
       " 0.005927746369336795,\n",
       " -0.0023811159074345056,\n",
       " 0.013970298957750593,\n",
       " -0.005683356043072685,\n",
       " 0.01359746539404938,\n",
       " -0.010130727838653542,\n",
       " 0.015221954493034318,\n",
       " 0.004303257270352745,\n",
       " -0.0029137352841512865,\n",
       " -0.0013158771540027203,\n",
       " -0.020303757933929134,\n",
       " 0.013703989269392203,\n",
       " 0.009762605881693531,\n",
       " 0.014902382867003183,\n",
       " -0.005337153448208731,\n",
       " 0.007871807094351091,\n",
       " -0.004671379227312755,\n",
       " -0.0008897816526278746,\n",
       " 0.012186024045750976,\n",
       " 0.008271271626887788,\n",
       " 0.00616742508886059,\n",
       " 0.0032113875480845877,\n",
       " -0.0111160736855771,\n",
       " -0.0002772693694055306,\n",
       " 0.006380472839546236,\n",
       " 0.016313824215301587,\n",
       " -0.006109451544446642,\n",
       " -0.002887104315313138,\n",
       " -0.006295868326296805,\n",
       " 0.006380472839546236,\n",
       " -0.007627416768086981,\n",
       " 0.00606090121351599,\n",
       " -0.00038379324474835386,\n",
       " 0.02179980379547697,\n",
       " -0.003579509505044598,\n",
       " 0.0036108520806221733,\n",
       " 0.013118107955005343,\n",
       " -0.013646015724979144,\n",
       " -0.012101419532502433,\n",
       " 0.006327210901875269,\n",
       " 0.008670736159426262,\n",
       " -0.0062692373574622096,\n",
       " 0.028457546004428735,\n",
       " 0.0019597320128026396,\n",
       " 0.0035842211117866896,\n",
       " 0.003211387548085476,\n",
       " 0.004436412114531052,\n",
       " -0.0028604733464785426,\n",
       " 0.02379712645816312,\n",
       " 0.010162070414228452,\n",
       " 0.004116840488502582,\n",
       " -0.005150736666356792,\n",
       " 0.018550825597509757,\n",
       " 0.014769228022823988,\n",
       " 0.0009743861658773056,\n",
       " 0.004969031491247833,\n",
       " 0.012186024045751864,\n",
       " -0.01756076814384233,\n",
       " 0.002705399140205067,\n",
       " 0.007978330969694802,\n",
       " -0.003792557255732021,\n",
       " 0.006992985122769468,\n",
       " -0.0013957700605091716,\n",
       " -0.0028604733464785426,\n",
       " -0.0015022939358519949,\n",
       " 0.005927746369335907,\n",
       " -0.013965587351008502,\n",
       " -0.004698010196149127,\n",
       " -0.0016887107177021576,\n",
       " -0.027014762080552757,\n",
       " 0.00017545710080302257,\n",
       " 0.009389772317993206,\n",
       " -0.0005435790577630328,\n",
       " -0.0096780013684441,\n",
       " 0.008803891003605457,\n",
       " -0.010929656903727825,\n",
       " -0.0024876397827764407,\n",
       " 0.004995662460084205,\n",
       " -0.0015821868423593344,\n",
       " -0.00011748355639085162,\n",
       " 0.0021195178258173186,\n",
       " -0.007121428360206572,\n",
       " 0.00017545710080302257,\n",
       " -0.002141437187911599,\n",
       " 0.005368496023786307,\n",
       " -0.0009963055279724742,\n",
       " -0.004218652757103314,\n",
       " -0.012713931815725665,\n",
       " 0.006060901213516878,\n",
       " -0.0077073096745952085,\n",
       " -0.0023811159074336175,\n",
       " -0.02120921087434713,\n",
       " 0.006114163151187846,\n",
       " -0.0015022939358519949,\n",
       " -0.0072013212667139115,\n",
       " -0.0006767339019413399,\n",
       " -0.009438322648922082,\n",
       " 0.009416403286827801,\n",
       " 0.007871807094351091,\n",
       " 0.005075555366591544,\n",
       " 0.00984249878820087,\n",
       " 0.00896367681661836,\n",
       " 0.004010316613159759,\n",
       " 0.0017733152309515887,\n",
       " 0.019802481132792593,\n",
       " 0.007339187717635198,\n",
       " 0.01034848719608128,\n",
       " 0.005261972148441707,\n",
       " 0.0018532081374589282,\n",
       " -0.008532869708504087,\n",
       " -0.0003571622759128701,\n",
       " -0.005177367635193164,\n",
       " -0.006402392201640517,\n",
       " 0.004596197927547507,\n",
       " -0.0020349133125687757,\n",
       " -0.013805801537993823,\n",
       " -0.00640239220163874,\n",
       " 0.0017999461997879607,\n",
       " 0.00984249878820087,\n",
       " 0.005767960556322116,\n",
       " 0.01325126279918365,\n",
       " 1.567128778923177e-05,\n",
       " -0.018785792710289684,\n",
       " 0.01873724237935992,\n",
       " 0.01274527439130324,\n",
       " 0.009043569723126588,\n",
       " -0.014418313821217055,\n",
       " 0.006327210901875269,\n",
       " 0.02342429289446102,\n",
       " -0.01822654236473742,\n",
       " -0.011009549810235164,\n",
       " -0.00291373528414951,\n",
       " -0.000676733901942228,\n",
       " 0.008297902595723272,\n",
       " -0.007094797391371976,\n",
       " 0.020894350855058974,\n",
       " 0.007259294811127859,\n",
       " -0.012607407940382842,\n",
       " 0.006726675434411966,\n",
       " -0.009358429742414742,\n",
       " -0.0047779031026555785,\n",
       " -0.016921624891782727,\n",
       " 0.00938977231799143,\n",
       " -0.009571477493100389,\n",
       " 0.016020883558107712,\n",
       " 0.007392449655307054,\n",
       " 0.0063005799330380086,\n",
       " 0.0028918159220552297,\n",
       " -0.01447157575888891,\n",
       " 0.00640710380838172,\n",
       " -0.01737435136199128,\n",
       " 0.0030782327039062807,\n",
       " -0.010104096869816281,\n",
       " 0.005927746369335907,\n",
       " 0.0165801339036582,\n",
       " -0.007440999986236818,\n",
       " 0.006566889621396399,\n",
       " -0.024032093570943047,\n",
       " 0.010801213666289833,\n",
       " 0.00667341349674011,\n",
       " 0.002252672669996514,\n",
       " -0.002487639782777329,\n",
       " 0.020335100509508486,\n",
       " 0.0009211242282072263,\n",
       " 0.010028915570051922,\n",
       " -0.012181312439009773,\n",
       " 0.001080910041220129,\n",
       " 0.009469665224499657,\n",
       " 0.016127407433450536,\n",
       " -0.0057898799184172844,\n",
       " 0.017698634594763618,\n",
       " -0.01098291884139968,\n",
       " -0.01164869306229388,\n",
       " -0.008239929051311101,\n",
       " 0.0018265771686234444,\n",
       " -0.005630094105401717,\n",
       " 0.01146698788718492,\n",
       " -0.0003305313070773863,\n",
       " 0.004942400522412349,\n",
       " 9.556419429657126e-05,\n",
       " -0.004724641164984611,\n",
       " 0.009043569723126588,\n",
       " 0.0037440069248013685,\n",
       " -0.00043705518242109775,\n",
       " -0.005390415385878811,\n",
       " 0.017059491342703126,\n",
       " -0.01300687247291954,\n",
       " 0.0010010171347136776,\n",
       " 0.017991575251956604,\n",
       " -0.011542169186950169,\n",
       " 0.001586898449101426,\n",
       " -0.010237251713995477,\n",
       " 0.0060342702446813945,\n",
       " 0.020947612792731718,\n",
       " -0.004698010196148239,\n",
       " 0.002012993950473607,\n",
       " -0.011941633719488642,\n",
       " 0.0017200532932806212,\n",
       " 0.0008678622905335942,\n",
       " -0.004005605006417667,\n",
       " -0.009145381991729096,\n",
       " 0.004835876647068638,\n",
       " 0.0047559837405630745,\n",
       " 0.005981008307009539,\n",
       " -0.011169335623249843,\n",
       " 0.008830521972440941,\n",
       " 0.02009542178998469,\n",
       " 0.001906470075130784,\n",
       " -0.009678001368444988,\n",
       " 0.006140794120022441,\n",
       " -0.0005968409954340004,\n",
       " 0.02001552888347824,\n",
       " -0.0016620797488666739,\n",
       " -0.00879917939686159,\n",
       " 0.007392449655306166,\n",
       " 0.011174047229991046,\n",
       " 0.009576189099843369,\n",
       " -0.0029137352841512865,\n",
       " 0.00030861194498310596,\n",
       " 0.0026787681713695832,\n",
       " 0.026300437528727905,\n",
       " -0.006988273516029153,\n",
       " -0.006562178014655196,\n",
       " -0.01037040655817556,\n",
       " 0.0163138242153007,\n",
       " -0.004990950853342113,\n",
       " -0.013646015724979144,\n",
       " -0.007680678705759725,\n",
       " 0.005261972148441707,\n",
       " -0.0015821868423593344,\n",
       " -0.006002927669102043,\n",
       " 0.004622828896383879,\n",
       " -0.0035262475673736304,\n",
       " 0.002492351389517644,\n",
       " 0.012265916952258316,\n",
       " 0.008723998097096342,\n",
       " 0.000281980976146734,\n",
       " -0.004698010196148239,\n",
       " -0.0028072114088057987,\n",
       " 0.0055282818368000974,\n",
       " -0.0011294603721516694,\n",
       " -0.003233306910178868,\n",
       " -0.0020615442814033713,\n",
       " 0.0024390894518466766,\n",
       " -0.003446354660866291,\n",
       " 0.004436412114532828,\n",
       " -0.023179902568197797,\n",
       " 0.002252672669996514,\n",
       " -0.009518215555429421,\n",
       " 0.0033179114234291873,\n",
       " -0.006961642547192781,\n",
       " 0.0060076392758450226,\n",
       " -0.005816510887252768,\n",
       " 0.012718643422467757,\n",
       " -0.0005169480889266609,\n",
       " -0.005603463136565345,\n",
       " 0.0010542790723855333,\n",
       " 0.02662000915475815,\n",
       " -0.0010495674656434417,\n",
       " 0.0060076392758450226,\n",
       " -0.007121428360206572,\n",
       " -0.011382383373936378,\n",
       " 0.00038850485148955727,\n",
       " 0.017991575251955716,\n",
       " 0.002226041701160142,\n",
       " 0.003797268862472336,\n",
       " 0.024196590990699818,\n",
       " 0.002359196545339337,\n",
       " -0.004831165040327434,\n",
       " -0.01404548025751673,\n",
       " -0.005070843759850341,\n",
       " 0.00025535000731036206,\n",
       " 0.006593520590231883,\n",
       " 0.00017545710080391075,\n",
       " -0.011622062093457508,\n",
       " 0.016899705529688447,\n",
       " -0.017081410704797406,\n",
       " -0.0020881752502397433,\n",
       " 0.001400481667250375,\n",
       " 0.014662704147481165,\n",
       " -0.015829755169516346,\n",
       " 0.002705399140205067,\n",
       " 0.0048891385847413815,\n",
       " 0.01061479688443967,\n",
       " -0.015803124200679974,\n",
       " -0.009571477493100389,\n",
       " -0.015803124200679086,\n",
       " 0.0009743861658773056,\n",
       " 0.0016667913556087655,\n",
       " -0.00325993787901524,\n",
       " -0.007600785799251497,\n",
       " -0.009518215555429421,\n",
       " 0.016553502934822717,\n",
       " -0.023739152913749173,\n",
       " 0.002705399140205067,\n",
       " -0.003739295318059277,\n",
       " 0.007232663842291487,\n",
       " 0.004383150176860973,\n",
       " -0.005390415385878811,\n",
       " -0.0004104242135847258,\n",
       " 0.004622828896382991,\n",
       " -0.0002506384005700468,\n",
       " 0.0028119230155487784,\n",
       " -0.00030390033824190255,\n",
       " 0.012798536328975096,\n",
       " -0.00419202178826783,\n",
       " 0.0021727797634891743,\n",
       " 0.013890406051241477,\n",
       " 0.003371173361100155,\n",
       " 0.007099508998112292,\n",
       " 0.014849120929333104,\n",
       " -0.008772548428026994,\n",
       " 0.01109415432348193,\n",
       " -0.005523570230059782,\n",
       " 0.0068065683409184174,\n",
       " -0.0045914863208045276,\n",
       " -0.004591486320805416,\n",
       " 0.0024390894518457884,\n",
       " -0.0013691390916736879,\n",
       " -0.013086765379426879,\n",
       " 0.024995520055773213,\n",
       " -0.001928389437224176,\n",
       " -0.006375761232805033,\n",
       " -0.002434377845104585,\n",
       " -0.008532869708504087,\n",
       " -0.004618117289640011,\n",
       " -0.01308676537942599,\n",
       " -0.011355752405100894,\n",
       " -0.0015555558735238506,\n",
       " -0.00033053130707649814,\n",
       " 0.009096831660797555,\n",
       " 0.0006281835710115757,\n",
       " 0.012372440827602027,\n",
       " -0.003393092723193547,\n",
       " 0.0042233643638454055,\n",
       " -0.0027006875334629754,\n",
       " 0.01743232490640434,\n",
       " 0.0032646494857555552,\n",
       " 0.023504185800969246,\n",
       " -0.002168068156747971,\n",
       " 0.010508273009095959,\n",
       " -0.0129269795664122,\n",
       " -0.0004370551824202096,\n",
       " 0.012771905360139613,\n",
       " -0.004698010196149127,\n",
       " 0.007339187717635198,\n",
       " -0.007148059329042944,\n",
       " -0.005656725074238089,\n",
       " -9.085258755447967e-05,\n",
       " 0.010721320759781605,\n",
       " -0.012740562784561149,\n",
       " 0.01642034809064441,\n",
       " -0.00650891607698334,\n",
       " -0.009571477493100389,\n",
       " 0.0008944932593708543,\n",
       " -0.0028604733464785426,\n",
       " -0.0031534140036715286,\n",
       " ...]"
      ]
     },
     "execution_count": 175,
     "metadata": {},
     "output_type": "execute_result"
    }
   ],
   "source": [
    "difference"
   ]
  },
  {
   "cell_type": "code",
   "execution_count": 177,
   "metadata": {
    "colab": {},
    "colab_type": "code",
    "id": "XMQHnqx1FcwF"
   },
   "outputs": [
    {
     "name": "stdout",
     "output_type": "stream",
     "text": [
      "0.0\n",
      "0.0\n"
     ]
    }
   ],
   "source": [
    "'''\n",
    "What do we know? \n",
    "\n",
    "Recall: The p-value of our observed data is just the proportion of the data given the null that's at least as extreme as that observed data.\n",
    "\n",
    "As a result, we're going to count how many of the differences in our difference list are at least as extreme as our observed difference.\n",
    "\n",
    "If less than or equal to 5% of them are, then we will reject the Null. \n",
    "'''\n",
    "\n",
    "pdiff=[]\n",
    "ndiff=[]\n",
    "for i in range(len(difference)): \n",
    "    if (difference[i]>=obs_difference): \n",
    "        pdiff.append(difference[i])\n",
    "    elif (difference[i]<= -obs_difference):\n",
    "        ndiff.append(difference[i])\n",
    "\n",
    "print(len(pdiff)/len(difference))\n",
    "print(len(ndiff)/len(difference))"
   ]
  },
  {
   "cell_type": "markdown",
   "metadata": {
    "colab_type": "text",
    "id": "4RTofY9wFcwI"
   },
   "source": [
    "### 4b. What is our decision?\n",
    "So actually, zero differences are at least as extreme as our observed difference!\n",
    "\n",
    "So the p-value of our observed data is 0. \n",
    "\n",
    "It doesn't matter which significance level we pick; our observed data is statistically significant, and we reject the Null.\n",
    "\n",
    "We conclude that platform does impact on ratings. Specifically, we should advise our client to integrate **only Google Play** into their operating system interface. "
   ]
  },
  {
   "cell_type": "markdown",
   "metadata": {
    "colab_type": "text",
    "id": "Cu_eh7fTFcwJ"
   },
   "source": [
    "### 4c. Other statistical tests, and next steps\n",
    "The test we used here is the Permutation test. This was appropriate because our data were not normally distributed! \n",
    "\n",
    "As we've seen in Professor Spiegelhalter's book, there are actually many different statistical tests, all with different assumptions. How many of these different statistical tests can you remember? How much do you remember about what the appropriate conditions are under which to use them? \n",
    "\n",
    "Make a note of your answers to these questions, and discuss them with your mentor at your next call. \n"
   ]
  }
 ],
 "metadata": {
  "colab": {
   "collapsed_sections": [
    "5fbRq2MZFcvq",
    "4RTofY9wFcwI",
    "Cu_eh7fTFcwJ"
   ],
   "name": "Springboard Apps project - Tier 3 - Complete.ipynb",
   "provenance": []
  },
  "kernelspec": {
   "display_name": "Python 3",
   "language": "python",
   "name": "python3"
  },
  "language_info": {
   "codemirror_mode": {
    "name": "ipython",
    "version": 3
   },
   "file_extension": ".py",
   "mimetype": "text/x-python",
   "name": "python",
   "nbconvert_exporter": "python",
   "pygments_lexer": "ipython3",
   "version": "3.8.8"
  }
 },
 "nbformat": 4,
 "nbformat_minor": 1
}
